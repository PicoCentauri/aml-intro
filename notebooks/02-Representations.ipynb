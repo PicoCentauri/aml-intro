{
 "cells": [
  {
   "cell_type": "markdown",
   "id": "01cc2393-dd0c-42ec-9f19-38160827aa73",
   "metadata": {},
   "source": [
    "<p style=\"font-size:32px; font-weight: bolder; text-align: center\"> Structural representations for materials and molecules </p>\n",
    "<p style=\"text-align: center\"><i> authored by: <a href=\"mailto:michele.ceriotti@gmail.com\"> Michele Ceriotti </a></i></p>"
   ]
  },
  {
   "cell_type": "markdown",
   "id": "7ac2d2ab-0f52-4324-b39d-a890b17d5c86",
   "metadata": {},
   "source": [
    "This notebook provides an overview of the ideas underlying the construction of (symmetric) descriptors of atomic structures, based on an atom-centered expansion of the neighbor density. \n",
    "\n",
    "We are going to work with two datasets of atomic structures (a snapshot of a simulation of undercooled iron, and a collection of isomers and crystalline polymorphs of azaphenacene) that allow us to introduce the concept of descriptors and to show how to apply some simple regression and dimensionality reduction techniques to gather insights into the nature of the problem and into structure-property relations. \n",
    "\n",
    "_References:_\n",
    "- [Chem. Rev. 121, 9759 (2021)](https://pubs.acs.org/doi/10.1021/acs.chemrev.1c00021)\n",
    "- [Phys. Rev. B 87, 184115 (2013)](http://link.aps.org/doi/10.1103/PhysRevB.87.184115)\n",
    "- [J. Chem. Phys. 156, 204115 (2022)](https://aip.scitation.org/doi/10.1063/5.0087042)\n"
   ]
  },
  {
   "cell_type": "code",
   "execution_count": null,
   "id": "9724e7bb-454a-43c8-a477-c5894631be09",
   "metadata": {},
   "outputs": [],
   "source": [
    "%matplotlib widget\n",
    "# scwidgets import\n",
    "import matplotlib as mpl\n",
    "import matplotlib.pyplot as plt\n",
    "import chemiscope\n",
    "\n",
    "import ipywidgets\n",
    "from ipywidgets import FloatSlider, IntSlider, Checkbox, Dropdown, HBox, Layout, HTML\n",
    "\n",
    "from markdown import markdown as mdwn\n",
    "\n",
    "import scwidgets\n",
    "from scwidgets.check import (\n",
    "    Check,\n",
    "    CheckRegistry,\n",
    "    assert_numpy_allclose,\n",
    "    assert_numpy_floating_sub_dtype,\n",
    "    assert_shape,\n",
    "    assert_type,\n",
    ")\n",
    "from scwidgets.code import ParameterPanel, CodeInput\n",
    "from scwidgets.cue import CueObject, CueFigure\n",
    "from scwidgets.exercise import CodeExercise, TextExercise, ExerciseRegistry"
   ]
  },
  {
   "cell_type": "code",
   "execution_count": null,
   "id": "026ea2aa-4d69-43a7-9a21-aabf850ccb68",
   "metadata": {},
   "outputs": [],
   "source": [
    "import numpy as np\n",
    "import ase, ase.io\n",
    "import itertools\n",
    "\n",
    "import rascaline\n",
    "from metatensor import mean_over_samples, Labels, slice_block\n",
    "\n",
    "from sklearn.decomposition import PCA\n",
    "from sklearn.linear_model import RidgeCV"
   ]
  },
  {
   "cell_type": "code",
   "execution_count": null,
   "id": "126cb410-5e1e-4d60-994c-bce371670d05",
   "metadata": {},
   "outputs": [],
   "source": [
    "# set CSS style for code-hide\n",
    "scwidgets.get_css_style()"
   ]
  },
  {
   "cell_type": "code",
   "execution_count": null,
   "id": "b1c68cee-ce1f-4ae7-81c2-ce361a3cc2ea",
   "metadata": {},
   "outputs": [],
   "source": [
    "exercise_registry = ExerciseRegistry(filename_prefix=\"module_02\")\n",
    "exercise_registry"
   ]
  },
  {
   "cell_type": "code",
   "execution_count": null,
   "id": "259e3bc1-c8ea-4ee9-aa1b-8c7c0245e7b0",
   "metadata": {},
   "outputs": [],
   "source": [
    "check_registry = CheckRegistry()\n",
    "check_registry"
   ]
  },
  {
   "cell_type": "code",
   "execution_count": null,
   "id": "e70c5c1c-33ff-4914-8613-eaf6ee23c376",
   "metadata": {},
   "outputs": [],
   "source": [
    "module_summary = TextExercise(\n",
    "    exercise_description=\"\"\"You can use this box to make general considerations, \n",
    "    or keep track of your doubts and questions about this notebook.\"\"\",\n",
    "    exercise_registry=exercise_registry,\n",
    "    exercise_title=\"Module comments\",\n",
    "    exercise_key=\"00\"\n",
    ")\n",
    "display(module_summary)"
   ]
  },
  {
   "cell_type": "markdown",
   "id": "a4b32992-267f-4e58-960a-69401fef0574",
   "metadata": {},
   "source": [
    "<a id=\"data-driven\"> </a>"
   ]
  },
  {
   "cell_type": "markdown",
   "id": "07abdab6-6b93-4725-9ad8-f43174662e35",
   "metadata": {},
   "source": [
    "# Descriptors of atomic environments in supercooled iron"
   ]
  },
  {
   "cell_type": "markdown",
   "id": "6b922e03-b186-45f0-b3f0-dec1f57a9514",
   "metadata": {},
   "source": [
    "As a first example we consider a structure which is cut ouf of a simulation of freezing iron ([Shibuta et al., Acta Mater. (2016)](https://www.sciencedirect.com/science/article/abs/pii/S1359645415301397)).\n",
    "The snapshot contains a few solid nuclei embedded in a supercoled liquid.\n",
    "\n",
    "We will use this structure to define atom-centered descriptors, and perform principal component analysis to color atoms based on whether they are in liquid or solid regions. \n",
    "\n",
    "Let's start by taking a look at the structure. Note that, to make the notebook fast enough, this is carved out of a larger structure, and so it is not periodic in the $x,y$ directions. "
   ]
  },
  {
   "cell_type": "code",
   "execution_count": null,
   "id": "1925dda8-8c10-4587-afce-6fdb71943ebc",
   "metadata": {},
   "outputs": [],
   "source": [
    "frame_iron = ase.io.read(\"data/iron-snapshot.xyz\", 0)\n",
    "\n",
    "# requires running in a jupyter notebook, and takes a while to load - it's > 100k atoms.\n",
    "cs = chemiscope.show(frames=[frame_iron], mode=\"structure\", \n",
    "                     settings={\"structure\": [ {\"bonds\": False, \"unitCell\": True, \n",
    "                             } ] },)\n",
    "display(cs)"
   ]
  },
  {
   "cell_type": "markdown",
   "id": "95e1ea1b-26a2-4e93-a835-2e34f1f0ea9d",
   "metadata": {
    "jp-MarkdownHeadingCollapsed": true
   },
   "source": [
    "## Atom-centered environments"
   ]
  },
  {
   "cell_type": "markdown",
   "id": "05cef4a3-c20c-4303-92c2-21544b38e450",
   "metadata": {},
   "source": [
    "A first important consideration is that we are looking at an individual configuration, and that we want to identify atomic structures _within_ this configuration - distinguishing liquid regions, crystalline nuclei, and ideally the interfacial regions.\n",
    "\n",
    "<center><img src=\"figures/environments.png\" width=\"500\"/></center>\n",
    "\n",
    "One way to do this is to look at atomic _environments_ i.e. spherical atom-centered regions that we can describe in terms of the collection of interatomic distance vectors around each atom. You can look at the environments for the frame "
   ]
  },
  {
   "cell_type": "code",
   "execution_count": null,
   "id": "199f1de7-5a25-4342-bcc7-52c4d4aaeb3c",
   "metadata": {},
   "outputs": [],
   "source": [
    "# requires running in a jupyter notebook, and takes a while to load - it's > 100k atoms.\n",
    "sel_env_idx = np.array([29030, 55650, 99980, 97370, 19570, 125940])\n",
    "sel_env_idx.sort()\n",
    "cs = chemiscope.show(frames=[frame_iron], mode=\"structure\", \n",
    "                     settings={\"structure\": [ \n",
    "                         {\"bonds\": False, \"unitCell\": False,\n",
    "                          \"keepOrientation\": True,\n",
    "                     'environments': {'activated': False, 'center': False}}] \n",
    "                              },  \n",
    "                     environments=[[0,s,5.0] for s in sel_env_idx ] ,                     \n",
    "                    )"
   ]
  },
  {
   "cell_type": "code",
   "execution_count": null,
   "id": "dcc9aef5-9840-4ef3-afc2-93634747fd42",
   "metadata": {},
   "outputs": [],
   "source": [
    "def update_co(code_exercise):\n",
    "    cutoff = code_exercise.parameters[\"cutoff\"]\n",
    "    showenv = code_exercise.parameters[\"showenv\"]\n",
    "    cs.settings={\"structure\": [{\"environments\": {'activated': showenv, \n",
    "                                                 'center':showenv,\n",
    "                                                 \"cutoff\":cutoff}}]}\n",
    "cs_wp = ParameterPanel(\n",
    "    showenv=Checkbox(value=False, description=\"show environments\"),\n",
    "    cutoff=FloatSlider(value=5.,min=2,max=8,step=0.25, description=r\"cutoff / Å\"),    \n",
    ")\n",
    "cue_cs = CueObject()\n",
    "with cue_cs:\n",
    "    display(cs)\n",
    "    \n",
    "cs_demo = CodeExercise(\n",
    "            parameters=cs_wp,\n",
    "            cue_outputs = cue_cs,\n",
    "            update_func = update_co,\n",
    "            update_mode=\"release\")\n",
    "display(cs_demo)\n",
    "cs_demo.run_update()"
   ]
  },
  {
   "cell_type": "code",
   "execution_count": null,
   "id": "560c20b9-3308-4442-9651-e9f4212974da",
   "metadata": {},
   "outputs": [],
   "source": [
    "ex01_txt = TextExercise(\n",
    "    exercise_description=\"\"\"\n",
    "It is always a good idea to take a good look at the data you are working with. \n",
    "Just play around with the viewer, look at the structure. \n",
    "What kind of features can you note by just observing the arrangement of the atoms?\n",
    "Now switch on the environment view and use the atom slider to highlight a few select ones.\n",
    "Can you easily recognize individual environments as liquid-like or solid-like?\n",
    "    \"\"\",\n",
    "    exercise_registry=exercise_registry,\n",
    "    exercise_key=\"01\",\n",
    "    exercise_title=\"Exercise 01: What am I looking at?\"\n",
    ")\n",
    "display(ex01_txt)"
   ]
  },
  {
   "cell_type": "markdown",
   "id": "5af5917b-57c4-4892-9162-1bd5b34e08f9",
   "metadata": {},
   "source": [
    "## Representations, a primer"
   ]
  },
  {
   "cell_type": "markdown",
   "id": "d521685a-fd57-4c21-8998-0fb7ab21495e",
   "metadata": {},
   "source": [
    "Having taken the decision of focusing on atomic _environments_ for a structure $A$, that we will indicate as $A_i$, we need to come up with an appropriate way to encode information on the positions and types of _neighbors_ within the environment, $\\{(a_j, \\mathbf{r}_{ji})\\}$.\n",
    "\n",
    "<center><img src=\"figures/requirements.png\" width=\"400\"/></center>\n",
    "\n",
    "In practice, we want to map to a vector of descriptors, or features $A_i\\rightarrow\\boldsymbol\\xi(A_i)$. It is desirable to use a a mapping that fulfills a number of basic mathematical requirements: \n",
    "\n",
    "1. **Locality** (that is already satisfied by the use of atom-centered environments with a finite cutoff)\n",
    "2. **Completeness** (two environments that are inequivalent should have different feature vectors)\n",
    "3. **Smoothness** (the mapping between Cartesian coordinates and features should be differentiable, and \"regular\")\n",
    "4. **Symmetry** (the mapping should be independent of rigid translations, rotations and permutation of atom indices\n",
    "\n",
    "It is clear that $\\{\\mathbf{r}_{ij}\\}$ fulfills (1) and (2), but is not smooth (the number of vectors change when atoms enter or leave the cutoff) and is only symmetric to translations. Using interatomic _distances_ $r_{ij}=|\\mathbf{r}_{ij}|$ easily makes the features invariant to rotations, but are still dependent on the ordering of the atoms. "
   ]
  },
  {
   "cell_type": "markdown",
   "id": "49bbcc0f-39f9-4b3e-9d98-583212ae137c",
   "metadata": {},
   "source": [
    "Let's now try to build an invariant descriptor: a _histogram_ of the distances, discretized on a real-space grid. We use a kernel-density estimation, and include a _cutoff function_ to smoothly send contributions to zero as atoms approach the cutoff distance:\n",
    "\n",
    "$$\n",
    "\\xi_k(A_i) = \\sum_{j\\in A_i} g(k - r_{ij}/\\Delta_r) f_\\mathrm{cut}(r_{ij})\n",
    "$$\n",
    "\n",
    "where $g(\\cdot)$ is a Gaussian with zero mean and unit variance, and $\\Delta_r=r_\\mathrm{cut}/n_\\mathrm{grid}$ is the resolution of the real-space grid, and \n",
    "$f_\\mathrm{cut}(r_{ij})=1+\\cos \\pi r_{ij}/r_\\mathrm{cut}$.\n",
    "\n",
    "In the following exercise you will be asked to implement this radial distribution fingerprint, and the exercise will compute and display it for the six environments visualized in the viewer for exercise 1. "
   ]
  },
  {
   "cell_type": "code",
   "execution_count": null,
   "id": "7b896f76-88e2-499c-abbc-0d9e1653afca",
   "metadata": {},
   "outputs": [],
   "source": [
    "ex02_wci = CodeInput(\n",
    "        function_name=\"radial_fp\", \n",
    "        function_parameters=\"rij_list, rcut, ngrid\",\n",
    "        docstring=\"\"\"\n",
    "        compute a radial distribution fingerprint using a kernel density estimation in real-space\n",
    "        \n",
    "        \n",
    "        :param rij_list: a list of interatomic distances for an environment\n",
    "        :param rcut: cutoff distance\n",
    "        :param ngrid: number of grid points and size of the feature vector\n",
    "        \n",
    "        :returns: a vector with the radial fistribution features computed for the given environment\n",
    "\"\"\",\n",
    "        function_body=\"\"\"\n",
    "\n",
    "import numpy as np\n",
    "rgrid = np.linspace(0, rcut, ngrid)\n",
    "feats = np.zeros(shape=rgrid.shape)\n",
    "\n",
    "### ADD THE CALCULATION OF THE FEATURES HERE ###\n",
    "\n",
    "return feats\n",
    "\"\"\"\n",
    "        )\n"
   ]
  },
  {
   "cell_type": "code",
   "execution_count": null,
   "id": "b8929016-d838-415a-b351-6ae4d40bf7be",
   "metadata": {},
   "outputs": [],
   "source": [
    "# makes neighbor list for the six selected environments (ASE is too slow to be usable for this box)\n",
    "max_cutoff = 8\n",
    "px = frame_iron.positions\n",
    "az = frame_iron.cell[2,2]\n",
    "nl_idx = []\n",
    "nl_dx = []\n",
    "nl_dr = []\n",
    "for isel in sel_env_idx:\n",
    "    dx = px - px[isel]\n",
    "    dx[:,2] /= az  # pbc along z\n",
    "    dx[:,2] -= np.round(dx[:,2])\n",
    "    dx[:,2] *= az\n",
    "    dr = np.sqrt((dx**2).sum(axis=1))\n",
    "    iw = np.where(dr<max_cutoff)[0]\n",
    "    nl_idx.append(iw)\n",
    "    nl_dx.append(dx[iw])\n",
    "    nl_dr.append(dr[iw])"
   ]
  },
  {
   "cell_type": "code",
   "execution_count": null,
   "id": "8be0acda-c7f8-4d39-974b-b7e6fabfa616",
   "metadata": {},
   "outputs": [],
   "source": [
    "ex02_img = mpl.image.imread('figures/selected-env.jpg')\n",
    "def update_02(code_exercise):\n",
    "    rcut, ngrid = code_exercise.parameters.values()\n",
    "    ax, aximg = code_exercise.cue_outputs[0].figure.get_axes()\n",
    "    aximg.imshow(ex02_img)\n",
    "    aximg.axis('off') \n",
    "    rgrid = np.linspace(0, rcut, ngrid)\n",
    "    for dr, l in zip(nl_dr, [\"A\", \"B\", \"C\", \"D\", \"E\", \"F\"]):\n",
    "        ygrid = ex02_wci.get_function_object()(dr, rcut, ngrid)    \n",
    "        ax.plot(rgrid, ygrid,label=l)\n",
    "    # ax.text(-4,8,f'$\\ell = ${l:.3f}')\n",
    "    ax.set_xlabel(r'$r$ / Å')\n",
    "    ax.set_ylabel(r'$\\xi$')\n",
    "    ax.legend()\n",
    "\n",
    "ex02_pb =  ParameterPanel(\n",
    "    rcut = FloatSlider(value=5,min=3,max=8,step=0.1,description=r'$r_{cut}$ / Å'),\n",
    "    ngrid = IntSlider(value=10,min=5,max=20,description=r'$n_{grid}$') )"
   ]
  },
  {
   "cell_type": "code",
   "execution_count": null,
   "id": "e3cfed80-3242-49e7-950d-8703f53454bb",
   "metadata": {},
   "outputs": [],
   "source": [
    "ex02_figure, ex02_ax = plt.subplots(1, 2, figsize=(8,5), tight_layout=True)\n",
    "ex02_output = CueFigure(ex02_figure)\n",
    "ex02_ax[1].imshow(ex02_img)\n",
    "ex02_ax[1].axis('off') \n",
    "\n",
    "ex02_code_demo = CodeExercise(\n",
    "            code= ex02_wci,\n",
    "            parameters= ex02_pb,\n",
    "            check_registry=check_registry,\n",
    "            cue_outputs = [ex02_output],\n",
    "            update_func = update_02,\n",
    "    exercise_key=\"02\",\n",
    "    exercise_registry=exercise_registry,\n",
    "    exercise_title=\"Exercise 02: Radial distribution fingerprints\",\n",
    "    exercise_description=\"\"\"\n",
    "Implement a function that computes a radial distribution fingerprint given the list\n",
    "of distances for an environment, a cutoff and the number of grid points. \n",
    "You should implement the exact functional form given above, if you want checks to pass, \n",
    "but of course you're also encouraged to try something different!\n",
    "\"\"\"\n",
    ")\n",
    "\n",
    "ex02_ref_input = [{\"rij_list\": np.array([1,3,4]), \"rcut\": 5, \"ngrid\": 10},\n",
    "                 {\"rij_list\": np.array([5,7,8]), \"rcut\": 6, \"ngrid\": 4}\n",
    "                 ]\n",
    "ex02_ref_output = [(np.array([0.0331333 , 0.82091159, 1.72185318, 0.30631179, 0.06605532,\n",
    "       0.56761871, 0.47532342, 0.21108182, 0.08683   , 0.00349805])/2,),\n",
    "                  (np.array([2.00234259e-06, 2.45588889e-03, 8.87637079e-02, 2.56310425e-01])/2,)\n",
    "                  ]\n",
    "\n",
    "check_registry.add_check(ex02_code_demo,\n",
    "    asserts=[\n",
    "        assert_type,\n",
    "        assert_shape,\n",
    "        assert_numpy_allclose,\n",
    "    ],\n",
    "    inputs_parameters=ex02_ref_input,\n",
    "    outputs_references=ex02_ref_output\n",
    ")\n",
    "                         \n",
    "#                         inputs_parameters=ex_08_ref_input,\n",
    "#                         reference_outputs = ex_08_ref_output,\n",
    "#                         equal=ex08_chk,\n",
    "#                        fingerprint=identity)\n",
    "\n",
    "display(ex02_code_demo)"
   ]
  },
  {
   "cell_type": "code",
   "execution_count": null,
   "id": "0739ae8c-ae2f-455f-a1c4-f699492daf41",
   "metadata": {},
   "outputs": [],
   "source": [
    "ex02b_txt = TextExercise(\n",
    "    exercise_description=\"\"\"\n",
    "Experiment with different grid resolutions, cutoff radius, etc. \n",
    "Can you recognize clear-cut differences between liquid-like and solid-like environments?\n",
    "    \"\"\",\n",
    "    exercise_registry=exercise_registry,\n",
    "    exercise_key=\"02b\",\n",
    "    exercise_title=\"Exercise 02b: Resolving power of radial fingerprints.\"\n",
    ")\n",
    "display(ex02b_txt)"
   ]
  },
  {
   "cell_type": "markdown",
   "id": "dffca2e8-9dc9-41f6-9093-bdb0bc6c3376",
   "metadata": {},
   "source": [
    "## Atom-centered symmetry functions"
   ]
  },
  {
   "cell_type": "markdown",
   "id": "872b331a-9ed4-4cde-bbc3-0e35b9b65edd",
   "metadata": {},
   "source": [
    "This set of radial features can be seen as a special case of so-called _atom-centered symmetry functions_ (ACSFs), one of the first types of representations used e.g. by [Behler and Parrinello](http://doi.org/10.1103/PhysRevLett.98.146401). \n",
    "\n",
    "\n",
    "<center><img src=\"figures/radial-acsf.png\" width=\"500\"/><br/>\n",
    "<i> Representative examples of radial symmetry functions.</i><br/><br/>\n",
    "</center>\n",
    "\n",
    "\n",
    "ACSFs are designed as bespoke functions $\\phi_k$ of the internal coordinates of the environment, accumulated over neighbors to achieve invariance to atom index permutations.\n",
    "They can be generalized to also include functions of distances and angles (3-body symmetry functions) and can be tuned to focus on the structural features that are most discriminating, or most straightforwardly related to the structure-property relations one is trying to learn.\n",
    "Radial (two-body) symmetry functions take the form\n",
    "\n",
    "$$\n",
    "\\xi_k(A_i) = \\sum_{j\\in A_i} \\phi_k(r_{ij}) f_\\mathrm{cut}(r_{ij})\n",
    "$$\n",
    "\n",
    "where $\\phi_k$ has typically a parametric form, or enumerates a set of orthogonal basis functions. "
   ]
  },
  {
   "cell_type": "code",
   "execution_count": null,
   "id": "076a854f-1e80-4635-a3d2-cafef55d5be5",
   "metadata": {},
   "outputs": [],
   "source": [
    "ex03_wci = CodeInput(\n",
    "        function_name=\"radial_acsf\", \n",
    "        function_parameters=\"rij_list, rcut, delta, rs\",\n",
    "        docstring=\"\"\"\n",
    "        compute a radial distribution fingerprint using a kernel density estimation in real-space\n",
    "        \n",
    "        \n",
    "        :param rij_list: a list of interatomic distances for an environment\n",
    "        :param rcut: cutoff distance\n",
    "        :param delta: the smearing of the Gaussian ACSF\n",
    "        :param rs: the center of the Gaussian ACSF\n",
    "        \n",
    "        :returns: a float containing the value of the ACSF for the environment\n",
    "\"\"\",\n",
    "        function_body=\"\"\"\n",
    "\n",
    "import numpy as np\n",
    "\n",
    "acsf = 0.0\n",
    "### ADD THE CALCULATION OF THE ACSF VALUE HERE ###\n",
    "\n",
    "return acsf\n",
    "\"\"\"\n",
    "        )"
   ]
  },
  {
   "cell_type": "code",
   "execution_count": null,
   "id": "af3252c6-3d9e-48d3-83ee-1eb1e717c8b0",
   "metadata": {},
   "outputs": [],
   "source": [
    "ex03_img = mpl.image.imread('figures/selected-env.jpg')\n",
    "def update_03(code_exercise):\n",
    "    rcut, delta, rs = code_exercise.parameters.values()\n",
    "    ax, aximg = code_exercise.cue_outputs[0].figure.get_axes()\n",
    "    aximg.imshow(ex02_img)\n",
    "    aximg.axis('off') \n",
    "    rgrid = np.linspace(0, rcut, 100)\n",
    "    ygrid = np.zeros_like(rgrid)\n",
    "    for ir, r in enumerate(rgrid):\n",
    "        ygrid[ir] = ex03_wci.get_function_object()([r], rcut, delta, rs)    \n",
    "    ax.plot(rgrid, ygrid, 'r-')\n",
    "    # ax.text(-4,8,f'$\\ell = ${l:.3f}')\n",
    "    ax.set_xlabel(r'$r$ / Å')\n",
    "    ax.set_ylabel(r'$\\phi_k(r)$')\n",
    "\n",
    "    labels = []\n",
    "    for dr, l in zip(nl_dr, [\"A\", \"B\", \"C\", \"D\", \"E\", \"F\"]):\n",
    "        acf = ex03_wci.get_function_object()(dr, rcut, delta, rs) \n",
    "        labels.append(f\"{l}: {acf:9.4f}\")\n",
    "    aximg.legend(handles=[mpl.patches.Patch(color=\"w\", )]*6, labels=labels,\n",
    "                 handlelength=0.1, loc='lower left')\n",
    "\n",
    "ex03_pb =  ParameterPanel(\n",
    "    rcut = FloatSlider(value=5,min=3,max=8,step=0.1,description=r'$r_{cut}$ / Å'),\n",
    "    delta = FloatSlider(value=0.5,min=0.1,max=2,step=0.1,description=r'$\\Delta$ / Å'),\n",
    "    rs = FloatSlider(value=5,min=3,max=8,step=0.1,description=r'$r_s$ / Å'),\n",
    "    )"
   ]
  },
  {
   "cell_type": "code",
   "execution_count": null,
   "id": "4cf20997-ddb5-4d08-bc92-ef93f173455f",
   "metadata": {},
   "outputs": [],
   "source": [
    "ex03_figure, ex03_ax = plt.subplots(1, 2, figsize=(8,4), tight_layout=True)\n",
    "ex03_output = CueFigure(ex03_figure)\n",
    "ex03_ax[1].imshow(ex03_img)\n",
    "ex03_ax[1].axis('off') \n",
    "\n",
    "ex03_code_demo = CodeExercise(\n",
    "            code= ex03_wci,\n",
    "            parameters= ex03_pb,\n",
    "            check_registry=check_registry,\n",
    "            cue_outputs = [ex03_output],\n",
    "            update_func = update_03,\n",
    "    update_mode=\"manual\",\n",
    "    exercise_key=\"03\",\n",
    "    exercise_registry=exercise_registry,\n",
    "    exercise_title=\"Exercise 03: Radial ACSF\",\n",
    "    exercise_description=mdwn(\"\"\"\n",
    "Implement a function that computes a Behler-Parrinello atom-center symmetry function\n",
    "of the form\n",
    "\n",
    "$$\n",
    "\\phi_k(r) = \\exp\\[-(r-r_s)^2/\\delta^2\\]  f_c(r_s)\n",
    "$$\n",
    "\n",
    "using a cosine cutoff function.\n",
    "\"\"\")\n",
    ")\n",
    "\n",
    "ex02_ref_input = [{\"rij_list\": np.array([1,3,4]), \"rcut\": 5, \"ngrid\": 10},\n",
    "                 {\"rij_list\": np.array([5,7,8]), \"rcut\": 6, \"ngrid\": 4}\n",
    "                 ]\n",
    "ex02_ref_output = [(np.array([0.0331333 , 0.82091159, 1.72185318, 0.30631179, 0.06605532,\n",
    "       0.56761871, 0.47532342, 0.21108182, 0.08683   , 0.00349805]),),\n",
    "                  (np.array([2.00234259e-06, 2.45588889e-03, 8.87637079e-02, 2.56310425e-01]),)\n",
    "                  ]\n",
    "\n",
    "check_registry.add_check(ex02_code_demo,\n",
    "    asserts=[\n",
    "        assert_type,\n",
    "        assert_shape,\n",
    "        assert_numpy_allclose,\n",
    "    ],\n",
    "    inputs_parameters=ex02_ref_input,\n",
    "    outputs_references=ex02_ref_output\n",
    ")\n",
    "                         \n",
    "\n",
    "display(ex03_code_demo)"
   ]
  },
  {
   "cell_type": "code",
   "execution_count": null,
   "id": "5127fc70-7c3b-4a7b-8dde-75b262057c0c",
   "metadata": {},
   "outputs": [],
   "source": [
    "ex03b_txt = TextExercise(\n",
    "    exercise_description=\"\"\"\n",
    "Observe how the shape of the symmetry function, and its value for the \n",
    "various environments, change with its parameters. Try to find values that maximise the difference\n",
    "between solid-like and liquid-like environments. \n",
    "    \"\"\",\n",
    "    exercise_registry=exercise_registry,\n",
    "    exercise_key=\"03b\",\n",
    "    exercise_title=\"Exercise 03b: ACSF.\"\n",
    ")\n",
    "display(ex02b_txt)"
   ]
  },
  {
   "cell_type": "markdown",
   "id": "ae459c2f-4470-4548-ac8a-4cf985881d1f",
   "metadata": {},
   "source": [
    "## Discretized density expansion"
   ]
  },
  {
   "cell_type": "markdown",
   "id": "bd83cdf9-9ac1-4ff3-867c-bb94015ee9a3",
   "metadata": {},
   "source": [
    "## Three-body correlations: SOAP features"
   ]
  },
  {
   "cell_type": "markdown",
   "id": "71cbcfe3-ff22-48a5-bbde-aafe461db710",
   "metadata": {},
   "source": [
    "# Automatic identification of environments"
   ]
  },
  {
   "cell_type": "code",
   "execution_count": null,
   "id": "32c88536-a3c3-4ade-93cb-52a07cb5fe18",
   "metadata": {},
   "outputs": [],
   "source": [
    "selection = np.where((frame_iron.positions[:,0]>max_cutoff+1) & (frame_iron.positions[:,0]<199-max_cutoff) &\n",
    "                     (frame_iron.positions[:,1]>max_cutoff+1) & (frame_iron.positions[:,1]<199-max_cutoff) & \n",
    "                     (frame_iron.positions[:,2]>17) & (frame_iron.positions[:,2]<27)\n",
    "                    )[0] "
   ]
  },
  {
   "cell_type": "code",
   "execution_count": null,
   "id": "e9a054cd-249c-45da-a58b-61ac10938040",
   "metadata": {},
   "outputs": [],
   "source": [
    "nl_code = rascaline.NeighborList(cutoff=6.0, full_neighbor_list=True)"
   ]
  },
  {
   "cell_type": "code",
   "execution_count": null,
   "id": "00c857ca-d5fe-4a34-8291-3495cb09611a",
   "metadata": {},
   "outputs": [],
   "source": [
    "%%time \n",
    "nl_selected = nl_code.compute(frame_iron)\n",
    "#                    selected_samples=Labels(names=[\"first_atom\"], values=selection[:,np.newaxis]))"
   ]
  },
  {
   "cell_type": "code",
   "execution_count": null,
   "id": "c4aa4369-45dd-46e3-880f-e896504f27b4",
   "metadata": {},
   "outputs": [],
   "source": [
    "%%time\n",
    "sb = slice_block(nl_selected.block(0),axis=\"samples\", \n",
    "            labels=Labels(names=[\"first_atom\"], values=selection[:,np.newaxis]))"
   ]
  },
  {
   "cell_type": "code",
   "execution_count": null,
   "id": "353a5de2-5126-4df2-bb07-3eb41533b8a5",
   "metadata": {},
   "outputs": [],
   "source": []
  },
  {
   "cell_type": "code",
   "execution_count": null,
   "id": "99a03fef-ea41-43b9-b07b-b1d8f63bac2b",
   "metadata": {},
   "outputs": [],
   "source": [
    "all_samples = nl_selected.block(0).samples.view(\"first_atom\")\n",
    "labels=Labels(names=[\"first_atom\"], values=selection[:,np.newaxis])"
   ]
  },
  {
   "cell_type": "code",
   "execution_count": null,
   "id": "c16efa8b-825b-4ffa-a279-90785c1a1ade",
   "metadata": {},
   "outputs": [],
   "source": [
    "from tqdm.notebook import tqdm"
   ]
  },
  {
   "cell_type": "code",
   "execution_count": null,
   "id": "5e4d2343-7b19-4ed0-b0be-dc8cedc8958b",
   "metadata": {},
   "outputs": [],
   "source": [
    "np.asarray(labels[\"first_atom\"])"
   ]
  },
  {
   "cell_type": "code",
   "execution_count": null,
   "id": "6b0eb318-0a64-4a9e-9bea-5dbdb6fb7cfc",
   "metadata": {},
   "outputs": [],
   "source": [
    "%%time\n",
    "labs = np.asarray(labels.view([\"first_atom\"]))\n",
    "samp = np.asarray(all_samples)\n",
    "mask = np.zeros(len(samp), dtype=bool)\n",
    "\n",
    "# Two-pointer technique\n",
    "i, j = 0, 0\n",
    "while i < len(samp) and j < len(labs):\n",
    "    if samp[i] == labs[j]:\n",
    "        mask[i] = True\n",
    "        i += 1\n",
    "    elif samp[i] < labs[j]:\n",
    "        i += 1\n",
    "    else:\n",
    "        j += 1"
   ]
  },
  {
   "cell_type": "code",
   "execution_count": null,
   "id": "d5d06a1d-14f5-42ac-a853-0e14ddc25af7",
   "metadata": {},
   "outputs": [],
   "source": [
    "%%time\n",
    "mask=np.isin(all_samples, labels.view([\"first_atom\"]) )"
   ]
  },
  {
   "cell_type": "code",
   "execution_count": null,
   "id": "a26829df-99de-4d07-8d0f-36db0697da41",
   "metadata": {},
   "outputs": [],
   "source": [
    "%%time \n",
    "samples_mask = [all_samples.entry(i) in labels for i in tqdm(range(len(all_samples)))]"
   ]
  },
  {
   "cell_type": "code",
   "execution_count": null,
   "id": "226ac0cd-6b12-4b2b-b967-b557a613a675",
   "metadata": {},
   "outputs": [],
   "source": [
    "fun = ex03_wci.get_f"
   ]
  },
  {
   "cell_type": "code",
   "execution_count": null,
   "id": "3036fac5-8cf7-46a7-9f5b-c4ee9352cf40",
   "metadata": {},
   "outputs": [],
   "source": [
    "nl_selected"
   ]
  },
  {
   "cell_type": "code",
   "execution_count": null,
   "id": "f3d22f9d-b7e7-4cc1-9040-3f5305e729ad",
   "metadata": {},
   "outputs": [],
   "source": [
    "frame_iron.cell"
   ]
  },
  {
   "cell_type": "markdown",
   "id": "4160d8b8-27cf-45b7-b41c-3cc3467c8f13",
   "metadata": {},
   "source": [
    "# Structure-property maps for molecular materials"
   ]
  },
  {
   "cell_type": "code",
   "execution_count": null,
   "id": "57f05984-21b9-413e-8dd9-ef8b0cf4fd0c",
   "metadata": {},
   "outputs": [],
   "source": [
    "aza_frames = ase.io.read(\"data/azaphenacene.xyz\", \":\")\n",
    "\n",
    "aza_props = {\n",
    " prop: np.array([f.info[prop] for f in aza_frames])\n",
    " for prop in [\"energy\", \"mobility\", \"nHB\"]}"
   ]
  },
  {
   "cell_type": "code",
   "execution_count": null,
   "id": "406af292-86c6-4497-a783-2a7b308c5266",
   "metadata": {},
   "outputs": [],
   "source": [
    "cs = chemiscope.show(frames = aza_frames,\n",
    "                properties = chemiscope.extract_properties(aza_frames),\n",
    "              settings =  {'map': {'x': {'property': 'mobility','scale': 'log'},\n",
    "                                   'y': {'property': 'energy','scale': 'linear'},\n",
    "                                   'symbol': 'nHB_class',\n",
    "                                   'palette': 'inferno',\n",
    "                                    'color': {'property': 'molecule'},\n",
    "                                  },\n",
    "                             'structure': [{'unitCell': True,\n",
    "                                            'supercell': {'0': 2, '1': 2, '2': 2},\n",
    "                                           }]\n",
    "                          },\n",
    "               mode=\"default\")\n",
    "display(cs)"
   ]
  },
  {
   "cell_type": "markdown",
   "id": "fbf307a8-b056-4f16-ad20-9c0fa114cb5d",
   "metadata": {},
   "source": [
    "# Geometric representations and symmetries"
   ]
  },
  {
   "cell_type": "markdown",
   "id": "7a999ab7-2478-4a47-985b-dfde879df072",
   "metadata": {},
   "source": [
    "An overview of the ideas of symmetry-compliant descriptors\n",
    "\n",
    "* Build distance-histogram descriptors \"by hand\". Internal coordinates and symmetries\n",
    "* Visualize atomic environments with chemiscope\n",
    "* Generalize this: density expansion for permutation invariance\n",
    "* PCA map\n",
    "* Construction of invariants - explain addition theorem\n",
    "* Multiple species and azaphenacene.\n",
    "* PCOVr maps"
   ]
  },
  {
   "cell_type": "markdown",
   "id": "74579537-5a70-44f5-ac75-f856db4d70d7",
   "metadata": {},
   "source": [
    "This example takes a structure which is cut ouf of a simulation of freezing iron ([Shibuta et al., Acta Mater. (2016)](https://www.sciencedirect.com/science/article/abs/pii/S1359645415301397)).\n",
    "The snapshot contains a few solid nuclei embedded in a supercoled liquid."
   ]
  },
  {
   "cell_type": "code",
   "execution_count": null,
   "id": "0b0fac15-bd58-42be-94be-85598ee7d091",
   "metadata": {},
   "outputs": [],
   "source": []
  },
  {
   "cell_type": "code",
   "execution_count": null,
   "id": "e378b8a5-b2b7-42e2-b0e3-88286f6130f6",
   "metadata": {},
   "outputs": [],
   "source": [
    "nl_code = rascaline.NeighborList(cutoff=6.0, full_neighbor_list=True)"
   ]
  },
  {
   "cell_type": "code",
   "execution_count": null,
   "id": "41801ab6-c214-4823-968c-b6c6fcd4552b",
   "metadata": {},
   "outputs": [],
   "source": [
    "nl_val = nl.compute(frame_iron\n",
    "        ,selected_samples=Labels(names=[\"first_atom\"], values=sel_env_idx[:,np.newaxis]))"
   ]
  },
  {
   "cell_type": "code",
   "execution_count": null,
   "id": "d9918336-37af-468f-9e80-1130b2674f8d",
   "metadata": {},
   "outputs": [],
   "source": []
  }
 ],
 "metadata": {
  "kernelspec": {
   "display_name": "Python 3 (ipykernel)",
   "language": "python",
   "name": "python3"
  },
  "language_info": {
   "codemirror_mode": {
    "name": "ipython",
    "version": 3
   },
   "file_extension": ".py",
   "mimetype": "text/x-python",
   "name": "python",
   "nbconvert_exporter": "python",
   "pygments_lexer": "ipython3",
   "version": "3.10.12"
  }
 },
 "nbformat": 4,
 "nbformat_minor": 5
}
