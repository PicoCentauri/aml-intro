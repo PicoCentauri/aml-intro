{
 "cells": [
  {
   "cell_type": "markdown",
   "id": "01cc2393-dd0c-42ec-9f19-38160827aa73",
   "metadata": {},
   "source": [
    "<p style=\"font-size:32px; font-weight: bolder; text-align: center\"> Structural representations for materials and molecules </p>\n",
    "<p style=\"text-align: center\"><i> authored by: <a href=\"mailto:michele.ceriotti@gmail.com\"> Michele Ceriotti </a></i></p>"
   ]
  },
  {
   "cell_type": "markdown",
   "id": "7ac2d2ab-0f52-4324-b39d-a890b17d5c86",
   "metadata": {},
   "source": [
    "This notebook provides an overview of the ideas underlying the construction of (symmetric) descriptors of atomic structures, based on an atom-centered expansion of the neighbor density. \n",
    "\n",
    "We are going to work with two datasets of atomic structures (a snapshot of a simulation of undercooled iron, and a collection of isomers and crystalline polymorphs of azaphenacene) that allow us to introduce the concept of descriptors and to show how to apply some simple regression and dimensionality reduction techniques to gather insights into the nature of the problem and into structure-property relations. \n",
    "\n",
    "_References:_\n",
    "- [Chem. Rev. 121, 9759 (2021)](https://pubs.acs.org/doi/10.1021/acs.chemrev.1c00021)\n",
    "- [Phys. Rev. B 87, 184115 (2013)](http://link.aps.org/doi/10.1103/PhysRevB.87.184115)\n",
    "- [J. Chem. Phys. 156, 204115 (2022)](https://aip.scitation.org/doi/10.1063/5.0087042)\n"
   ]
  },
  {
   "cell_type": "code",
   "execution_count": null,
   "id": "9724e7bb-454a-43c8-a477-c5894631be09",
   "metadata": {},
   "outputs": [],
   "source": [
    "%matplotlib widget\n",
    "# scwidgets import\n",
    "import matplotlib as mpl\n",
    "import matplotlib.pyplot as plt\n",
    "import chemiscope\n",
    "\n",
    "import ipywidgets\n",
    "from ipywidgets import FloatSlider, IntSlider, Checkbox, Dropdown, HBox, Layout, HTML\n",
    "\n",
    "from markdown import markdown as mdwn\n",
    "\n",
    "import scwidgets\n",
    "from scwidgets.check import (\n",
    "    Check,\n",
    "    CheckRegistry,\n",
    "    assert_numpy_allclose,\n",
    "    assert_numpy_floating_sub_dtype,\n",
    "    assert_shape,\n",
    "    assert_type,\n",
    ")\n",
    "from scwidgets.code import ParameterPanel, CodeInput\n",
    "from scwidgets.cue import CueObject, CueFigure\n",
    "from scwidgets.exercise import CodeExercise, TextExercise, ExerciseRegistry"
   ]
  },
  {
   "cell_type": "code",
   "execution_count": null,
   "id": "026ea2aa-4d69-43a7-9a21-aabf850ccb68",
   "metadata": {},
   "outputs": [],
   "source": [
    "import numpy as np\n",
    "import ase, ase.io\n",
    "import itertools\n",
    "from tqdm.notebook import tqdm\n",
    "\n",
    "import rascaline\n",
    "from metatensor import mean_over_samples, Labels, slice_block\n",
    "\n",
    "from sklearn.decomposition import PCA\n",
    "from sklearn.linear_model import RidgeCV"
   ]
  },
  {
   "cell_type": "code",
   "execution_count": null,
   "id": "126cb410-5e1e-4d60-994c-bce371670d05",
   "metadata": {},
   "outputs": [],
   "source": [
    "# set CSS style for code-hide\n",
    "scwidgets.get_css_style()"
   ]
  },
  {
   "cell_type": "code",
   "execution_count": null,
   "id": "b1c68cee-ce1f-4ae7-81c2-ce361a3cc2ea",
   "metadata": {},
   "outputs": [],
   "source": [
    "exercise_registry = ExerciseRegistry(filename_prefix=\"module_02\")\n",
    "exercise_registry"
   ]
  },
  {
   "cell_type": "code",
   "execution_count": null,
   "id": "259e3bc1-c8ea-4ee9-aa1b-8c7c0245e7b0",
   "metadata": {},
   "outputs": [],
   "source": [
    "check_registry = CheckRegistry()\n",
    "check_registry"
   ]
  },
  {
   "cell_type": "code",
   "execution_count": null,
   "id": "e70c5c1c-33ff-4914-8613-eaf6ee23c376",
   "metadata": {},
   "outputs": [],
   "source": [
    "module_summary = TextExercise(\n",
    "    exercise_description=\"\"\"You can use this box to make general considerations, \n",
    "    or keep track of your doubts and questions about this notebook.\"\"\",\n",
    "    exercise_registry=exercise_registry,\n",
    "    exercise_title=\"Module comments\",\n",
    "    exercise_key=\"00\"\n",
    ")\n",
    "display(module_summary)"
   ]
  },
  {
   "cell_type": "markdown",
   "id": "a4b32992-267f-4e58-960a-69401fef0574",
   "metadata": {},
   "source": [
    "<a id=\"data-driven\"> </a>"
   ]
  },
  {
   "cell_type": "markdown",
   "id": "07abdab6-6b93-4725-9ad8-f43174662e35",
   "metadata": {},
   "source": [
    "# Descriptors of atomic environments in supercooled iron"
   ]
  },
  {
   "cell_type": "markdown",
   "id": "6b922e03-b186-45f0-b3f0-dec1f57a9514",
   "metadata": {},
   "source": [
    "As a first example we consider a structure which is cut ouf of a simulation of freezing iron ([Shibuta et al., Acta Mater. (2016)](https://www.sciencedirect.com/science/article/abs/pii/S1359645415301397)).\n",
    "The snapshot contains a few solid nuclei embedded in a supercoled liquid.\n",
    "\n",
    "We will use this structure to define atom-centered descriptors, and perform principal component analysis to color atoms based on whether they are in liquid or solid regions. \n",
    "\n",
    "Let's start by taking a look at the structure. Note that, to make the notebook fast enough, this is carved out of a larger structure, and so it is not periodic in the $x,y$ directions. "
   ]
  },
  {
   "cell_type": "code",
   "execution_count": null,
   "id": "1925dda8-8c10-4587-afce-6fdb71943ebc",
   "metadata": {},
   "outputs": [],
   "source": [
    "frame_iron = ase.io.read(\"data/iron-snapshot.xyz\", 0)\n",
    "\n",
    "# requires running in a jupyter notebook, and takes a while to load - it's > 100k atoms.\n",
    "cs = chemiscope.show(frames=[frame_iron], mode=\"structure\", \n",
    "                     settings={\"structure\": [ {\"bonds\": False, \"unitCell\": True, \n",
    "                             } ] },)\n",
    "display(cs)"
   ]
  },
  {
   "cell_type": "markdown",
   "id": "95e1ea1b-26a2-4e93-a835-2e34f1f0ea9d",
   "metadata": {},
   "source": [
    "## Atom-centered environments"
   ]
  },
  {
   "cell_type": "markdown",
   "id": "05cef4a3-c20c-4303-92c2-21544b38e450",
   "metadata": {},
   "source": [
    "A first important consideration is that we are looking at an individual configuration, and that we want to identify atomic structures _within_ this configuration - distinguishing liquid regions, crystalline nuclei, and ideally the interfacial regions.\n",
    "\n",
    "<center><img src=\"figures/environments.png\" width=\"500\"/></center>\n",
    "\n",
    "One way to do this is to look at atomic _environments_ i.e. spherical atom-centered regions that we can describe in terms of the collection of interatomic distance vectors around each atom. You can look at the environments for the frame "
   ]
  },
  {
   "cell_type": "code",
   "execution_count": null,
   "id": "199f1de7-5a25-4342-bcc7-52c4d4aaeb3c",
   "metadata": {},
   "outputs": [],
   "source": [
    "# requires running in a jupyter notebook, and takes a while to load - it's > 100k atoms.\n",
    "sel_env_idx = np.array([29030, 55650, 99980, 97370, 19570, 125940])\n",
    "sel_env_idx.sort()\n",
    "cs = chemiscope.show(frames=[frame_iron], mode=\"structure\", \n",
    "                     settings={\"structure\": [ \n",
    "                         {\"bonds\": False, \"unitCell\": False,\n",
    "                          \"keepOrientation\": True,\n",
    "                     'environments': {'activated': False, 'center': False}}] \n",
    "                              },  \n",
    "                     environments=[[0,s,5.0] for s in sel_env_idx ] ,                     \n",
    "                    )"
   ]
  },
  {
   "cell_type": "code",
   "execution_count": null,
   "id": "dcc9aef5-9840-4ef3-afc2-93634747fd42",
   "metadata": {},
   "outputs": [],
   "source": [
    "def update_co(code_exercise):\n",
    "    cutoff = code_exercise.parameters[\"cutoff\"]\n",
    "    showenv = code_exercise.parameters[\"showenv\"]\n",
    "    cs.settings={\"structure\": [{\"environments\": {'activated': showenv, \n",
    "                                                 'center':showenv,\n",
    "                                                 \"cutoff\":cutoff}}]}\n",
    "cs_wp = ParameterPanel(\n",
    "    showenv=Checkbox(value=False, description=\"show environments\"),\n",
    "    cutoff=FloatSlider(value=5.,min=2,max=8,step=0.25, description=r\"cutoff / Å\"),    \n",
    ")\n",
    "cue_cs = CueObject()\n",
    "with cue_cs:\n",
    "    display(cs)\n",
    "    \n",
    "cs_demo = CodeExercise(\n",
    "            parameters=cs_wp,\n",
    "            cue_outputs = cue_cs,\n",
    "            update_func = update_co,\n",
    "            update_mode=\"release\")\n",
    "display(cs_demo)\n",
    "cs_demo.run_update()"
   ]
  },
  {
   "cell_type": "code",
   "execution_count": null,
   "id": "560c20b9-3308-4442-9651-e9f4212974da",
   "metadata": {},
   "outputs": [],
   "source": [
    "ex01_txt = TextExercise(\n",
    "    exercise_description=\"\"\"\n",
    "It is always a good idea to take a good look at the data you are working with. \n",
    "Just play around with the viewer, look at the structure. \n",
    "What kind of features can you note by just observing the arrangement of the atoms?\n",
    "Now switch on the environment view and use the atom slider to highlight a few select ones.\n",
    "Can you easily recognize individual environments as liquid-like or solid-like?\n",
    "    \"\"\",\n",
    "    exercise_registry=exercise_registry,\n",
    "    exercise_key=\"01\",\n",
    "    exercise_title=\"Exercise 01: What am I looking at?\"\n",
    ")\n",
    "display(ex01_txt)"
   ]
  },
  {
   "cell_type": "markdown",
   "id": "5af5917b-57c4-4892-9162-1bd5b34e08f9",
   "metadata": {},
   "source": [
    "## Representations, a primer"
   ]
  },
  {
   "cell_type": "markdown",
   "id": "d521685a-fd57-4c21-8998-0fb7ab21495e",
   "metadata": {},
   "source": [
    "Having taken the decision of focusing on atomic _environments_ for a structure $A$, that we will indicate as $A_i$, we need to come up with an appropriate way to encode information on the positions and types of _neighbors_ within the environment, $\\{(a_j, \\mathbf{r}_{ji})\\}$.\n",
    "\n",
    "<center><img src=\"figures/requirements.png\" width=\"400\"/></center>\n",
    "\n",
    "In practice, we want to map to a vector of descriptors, or features $A_i\\rightarrow\\boldsymbol\\xi(A_i)$. It is desirable to use a a mapping that fulfills a number of basic mathematical requirements: \n",
    "\n",
    "1. **Locality** (that is already satisfied by the use of atom-centered environments with a finite cutoff)\n",
    "2. **Completeness** (two environments that are inequivalent should have different feature vectors)\n",
    "3. **Smoothness** (the mapping between Cartesian coordinates and features should be differentiable, and \"regular\")\n",
    "4. **Symmetry** (the mapping should be independent of rigid translations, rotations and permutation of atom indices\n",
    "\n",
    "It is clear that $\\{\\mathbf{r}_{ij}\\}$ fulfills (1) and (2), but is not smooth (the number of vectors change when atoms enter or leave the cutoff) and is only symmetric to translations. Using interatomic _distances_ $r_{ij}=|\\mathbf{r}_{ij}|$ easily makes the features invariant to rotations, but are still dependent on the ordering of the atoms. "
   ]
  },
  {
   "cell_type": "markdown",
   "id": "49bbcc0f-39f9-4b3e-9d98-583212ae137c",
   "metadata": {},
   "source": [
    "Let's now try to build an invariant descriptor: a _histogram_ of the distances, discretized on a real-space grid. We use a kernel-density estimation, and include a _cutoff function_ to smoothly send contributions to zero as atoms approach the cutoff distance:\n",
    "\n",
    "$$\n",
    "\\xi_k(A_i) = \\sum_{j\\in A_i} g(k - r_{ij}/\\Delta_r) f_\\mathrm{cut}(r_{ij})\n",
    "$$\n",
    "\n",
    "where $g(\\cdot)$ is a Gaussian with zero mean and unit variance, and $\\Delta_r=r_\\mathrm{cut}/n_\\mathrm{grid}$ is the resolution of the real-space grid, and \n",
    "$f_\\mathrm{cut}(r_{ij})=1+\\cos \\pi r_{ij}/r_\\mathrm{cut}$.\n",
    "\n",
    "In the following exercise you will be asked to implement this radial distribution fingerprint, and the exercise will compute and display it for the six environments visualized in the viewer for exercise 1. "
   ]
  },
  {
   "cell_type": "code",
   "execution_count": null,
   "id": "7b896f76-88e2-499c-abbc-0d9e1653afca",
   "metadata": {},
   "outputs": [],
   "source": [
    "ex02_wci = CodeInput(\n",
    "        function_name=\"radial_fp\", \n",
    "        function_parameters=\"rij_list, rcut, ngrid\",\n",
    "        docstring=\"\"\"\n",
    "        compute a radial distribution fingerprint using a kernel density estimation in real-space\n",
    "        \n",
    "        \n",
    "        :param rij_list: a list of interatomic distances for an environment\n",
    "        :param rcut: cutoff distance\n",
    "        :param ngrid: number of grid points and size of the feature vector\n",
    "        \n",
    "        :returns: a vector with the radial fistribution features computed for the given environment\n",
    "\"\"\",\n",
    "        function_body=\"\"\"\n",
    "\n",
    "import numpy as np\n",
    "rgrid = np.linspace(0, rcut, ngrid)\n",
    "feats = np.zeros(shape=rgrid.shape)\n",
    "\n",
    "### ADD THE CALCULATION OF THE FEATURES HERE ###\n",
    "\n",
    "return feats\n",
    "\"\"\"\n",
    "        )\n"
   ]
  },
  {
   "cell_type": "code",
   "execution_count": null,
   "id": "b8929016-d838-415a-b351-6ae4d40bf7be",
   "metadata": {},
   "outputs": [],
   "source": [
    "# makes neighbor list for the six selected environments (ASE is too slow to be usable for this box)\n",
    "max_cutoff = 8\n",
    "px = frame_iron.positions\n",
    "az = frame_iron.cell[2,2]\n",
    "nl_idx = []\n",
    "nl_dx = []\n",
    "nl_dr = []\n",
    "for isel in sel_env_idx:\n",
    "    dx = px - px[isel]\n",
    "    dx[:,2] /= az  # pbc along z\n",
    "    dx[:,2] -= np.round(dx[:,2])\n",
    "    dx[:,2] *= az\n",
    "    dr = np.sqrt((dx**2).sum(axis=1))\n",
    "    iw = np.where(dr<max_cutoff)[0]\n",
    "    nl_idx.append(iw)\n",
    "    nl_dx.append(dx[iw])\n",
    "    nl_dr.append(dr[iw])"
   ]
  },
  {
   "cell_type": "code",
   "execution_count": null,
   "id": "8be0acda-c7f8-4d39-974b-b7e6fabfa616",
   "metadata": {},
   "outputs": [],
   "source": [
    "ex02_img = mpl.image.imread('figures/selected-env.jpg')\n",
    "def update_02(code_exercise):\n",
    "    rcut, ngrid = code_exercise.parameters.values()\n",
    "    ax, aximg = code_exercise.cue_outputs[0].figure.get_axes()\n",
    "    aximg.imshow(ex02_img)\n",
    "    aximg.axis('off') \n",
    "    rgrid = np.linspace(0, rcut, ngrid)\n",
    "    for dr, l in zip(nl_dr, [\"A\", \"B\", \"C\", \"D\", \"E\", \"F\"]):\n",
    "        ygrid = ex02_wci.get_function_object()(dr, rcut, ngrid)    \n",
    "        ax.plot(rgrid, ygrid,label=l)\n",
    "    # ax.text(-4,8,f'$\\ell = ${l:.3f}')\n",
    "    ax.set_xlabel(r'$r$ / Å')\n",
    "    ax.set_ylabel(r'$\\xi$')\n",
    "    ax.legend()\n",
    "\n",
    "ex02_pb =  ParameterPanel(\n",
    "    rcut = FloatSlider(value=5,min=3,max=8,step=0.1,description=r'$r_{cut}$ / Å'),\n",
    "    ngrid = IntSlider(value=10,min=5,max=20,description=r'$n_{grid}$') )"
   ]
  },
  {
   "cell_type": "code",
   "execution_count": null,
   "id": "e3cfed80-3242-49e7-950d-8703f53454bb",
   "metadata": {},
   "outputs": [],
   "source": [
    "ex02_figure, ex02_ax = plt.subplots(1, 2, figsize=(8,5), tight_layout=True)\n",
    "ex02_output = CueFigure(ex02_figure)\n",
    "ex02_ax[1].imshow(ex02_img)\n",
    "ex02_ax[1].axis('off') \n",
    "\n",
    "ex02_code_demo = CodeExercise(\n",
    "            code= ex02_wci,\n",
    "            parameters= ex02_pb,\n",
    "            check_registry=check_registry,\n",
    "            cue_outputs = [ex02_output],\n",
    "            update_func = update_02,\n",
    "    exercise_key=\"02\",\n",
    "    exercise_registry=exercise_registry,\n",
    "    exercise_title=\"Exercise 02: Radial distribution fingerprints\",\n",
    "    exercise_description=\"\"\"\n",
    "Implement a function that computes a radial distribution fingerprint given the list\n",
    "of distances for an environment, a cutoff and the number of grid points. \n",
    "You should implement the exact functional form given above, if you want checks to pass, \n",
    "but of course you're also encouraged to try something different!\n",
    "\"\"\"\n",
    ")\n",
    "\n",
    "ex02_ref_input = [{\"rij_list\": np.array([1,3,4]), \"rcut\": 5, \"ngrid\": 10},\n",
    "                 {\"rij_list\": np.array([5,7,8]), \"rcut\": 6, \"ngrid\": 4}\n",
    "                 ]\n",
    "ex02_ref_output = [(np.array([0.0331333 , 0.82091159, 1.72185318, 0.30631179, 0.06605532,\n",
    "       0.56761871, 0.47532342, 0.21108182, 0.08683   , 0.00349805])/2,),\n",
    "                  (np.array([2.00234259e-06, 2.45588889e-03, 8.87637079e-02, 2.56310425e-01])/2,)\n",
    "                  ]\n",
    "\n",
    "check_registry.add_check(ex02_code_demo,\n",
    "    asserts=[\n",
    "        assert_type,\n",
    "        assert_shape,\n",
    "        assert_numpy_allclose,\n",
    "    ],\n",
    "    inputs_parameters=ex02_ref_input,\n",
    "    outputs_references=ex02_ref_output\n",
    ")\n",
    "                         \n",
    "#                         inputs_parameters=ex_08_ref_input,\n",
    "#                         reference_outputs = ex_08_ref_output,\n",
    "#                         equal=ex08_chk,\n",
    "#                        fingerprint=identity)\n",
    "\n",
    "display(ex02_code_demo)"
   ]
  },
  {
   "cell_type": "code",
   "execution_count": null,
   "id": "0739ae8c-ae2f-455f-a1c4-f699492daf41",
   "metadata": {},
   "outputs": [],
   "source": [
    "ex02b_txt = TextExercise(\n",
    "    exercise_description=\"\"\"\n",
    "Experiment with different grid resolutions, cutoff radius, etc. \n",
    "Can you recognize clear-cut differences between liquid-like and solid-like environments?\n",
    "    \"\"\",\n",
    "    exercise_registry=exercise_registry,\n",
    "    exercise_key=\"02b\",\n",
    "    exercise_title=\"Exercise 02b: Resolving power of radial fingerprints.\"\n",
    ")\n",
    "display(ex02b_txt)"
   ]
  },
  {
   "cell_type": "markdown",
   "id": "dffca2e8-9dc9-41f6-9093-bdb0bc6c3376",
   "metadata": {},
   "source": [
    "## Atom-centered symmetry functions"
   ]
  },
  {
   "cell_type": "markdown",
   "id": "872b331a-9ed4-4cde-bbc3-0e35b9b65edd",
   "metadata": {},
   "source": [
    "This set of radial features can be seen as a special case of so-called _atom-centered symmetry functions_ (ACSFs), one of the first types of representations used e.g. by [Behler and Parrinello](http://doi.org/10.1103/PhysRevLett.98.146401). \n",
    "\n",
    "\n",
    "<center><img src=\"figures/radial-acsf.png\" width=\"500\"/><br/>\n",
    "<i> Representative examples of radial symmetry functions.</i><br/><br/>\n",
    "</center>\n",
    "\n",
    "\n",
    "ACSFs are designed as bespoke functions $\\phi_k$ of the internal coordinates of the environment, accumulated over neighbors to achieve invariance to atom index permutations.\n",
    "They can be generalized to also include functions of distances and angles (3-body symmetry functions) and can be tuned to focus on the structural features that are most discriminating, or most straightforwardly related to the structure-property relations one is trying to learn.\n",
    "Radial (two-body) symmetry functions take the form\n",
    "\n",
    "$$\n",
    "\\xi_k(A_i) = \\sum_{j\\in A_i} \\phi_k(r_{ij}) f_\\mathrm{cut}(r_{ij})\n",
    "$$\n",
    "\n",
    "where $\\phi_k$ has typically a parametric form, or enumerates a set of orthogonal basis functions. "
   ]
  },
  {
   "cell_type": "code",
   "execution_count": null,
   "id": "076a854f-1e80-4635-a3d2-cafef55d5be5",
   "metadata": {},
   "outputs": [],
   "source": [
    "ex03_wci = CodeInput(\n",
    "        function_name=\"radial_acsf\", \n",
    "        function_parameters=\"rij_list, rcut, delta, rs\",\n",
    "        docstring=\"\"\"\n",
    "        compute a radial distribution fingerprint using a kernel density estimation in real-space\n",
    "        \n",
    "        \n",
    "        :param rij_list: a list of interatomic distances for an environment\n",
    "        :param rcut: cutoff distance\n",
    "        :param delta: the smearing of the Gaussian ACSF\n",
    "        :param rs: the center of the Gaussian ACSF\n",
    "        \n",
    "        :returns: a float containing the value of the ACSF for the environment\n",
    "\"\"\",\n",
    "        function_body=\"\"\"\n",
    "\n",
    "import numpy as np\n",
    "\n",
    "acsf = 0.0\n",
    "### ADD THE CALCULATION OF THE ACSF VALUE HERE ###\n",
    "\n",
    "return acsf\n",
    "\"\"\"\n",
    "        )"
   ]
  },
  {
   "cell_type": "code",
   "execution_count": null,
   "id": "af3252c6-3d9e-48d3-83ee-1eb1e717c8b0",
   "metadata": {},
   "outputs": [],
   "source": [
    "ex03_img = mpl.image.imread('figures/selected-env.jpg')\n",
    "def update_03(code_exercise):\n",
    "    rcut, delta, rs = code_exercise.parameters.values()\n",
    "    ax, aximg = code_exercise.cue_outputs[0].figure.get_axes()\n",
    "    aximg.imshow(ex02_img)\n",
    "    aximg.axis('off') \n",
    "    rgrid = np.linspace(0, rcut, 100)\n",
    "    ygrid = np.zeros_like(rgrid)\n",
    "    for ir, r in enumerate(rgrid):\n",
    "        ygrid[ir] = ex03_wci.get_function_object()([r], rcut, delta, rs)    \n",
    "    ax.plot(rgrid, ygrid, 'r-')\n",
    "    # ax.text(-4,8,f'$\\ell = ${l:.3f}')\n",
    "    ax.set_xlabel(r'$r$ / Å')\n",
    "    ax.set_ylabel(r'$\\phi_k(r)$')\n",
    "\n",
    "    labels = []\n",
    "    for dr, l in zip(nl_dr, [\"A\", \"B\", \"C\", \"D\", \"E\", \"F\"]):\n",
    "        acf = ex03_wci.get_function_object()(dr, rcut, delta, rs) \n",
    "        labels.append(f\"{l}: {acf:9.4f}\")\n",
    "    aximg.legend(handles=[mpl.patches.Patch(color=\"w\", )]*6, labels=labels,\n",
    "                 handlelength=0.1, loc='lower left')\n",
    "\n",
    "ex03_pb =  ParameterPanel(\n",
    "    rcut = FloatSlider(value=5,min=3,max=8,step=0.1,description=r'$r_{cut}$ / Å'),\n",
    "    delta = FloatSlider(value=0.5,min=0.1,max=2,step=0.1,description=r'$\\Delta$ / Å'),\n",
    "    rs = FloatSlider(value=5,min=3,max=8,step=0.1,description=r'$r_s$ / Å'),\n",
    "    )"
   ]
  },
  {
   "cell_type": "code",
   "execution_count": null,
   "id": "4cf20997-ddb5-4d08-bc92-ef93f173455f",
   "metadata": {},
   "outputs": [],
   "source": [
    "ex03_figure, ex03_ax = plt.subplots(1, 2, figsize=(8,4), tight_layout=True)\n",
    "ex03_output = CueFigure(ex03_figure)\n",
    "ex03_ax[1].imshow(ex03_img)\n",
    "ex03_ax[1].axis('off') \n",
    "\n",
    "ex03_code_demo = CodeExercise(\n",
    "            code= ex03_wci,\n",
    "            parameters= ex03_pb,\n",
    "            check_registry=check_registry,\n",
    "            cue_outputs = [ex03_output],\n",
    "            update_func = update_03,\n",
    "    update_mode=\"manual\",\n",
    "    exercise_key=\"03\",\n",
    "    exercise_registry=exercise_registry,\n",
    "    exercise_title=\"Exercise 03: Radial ACSF\",\n",
    "    exercise_description=mdwn(\"\"\"\n",
    "Implement a function that computes a Behler-Parrinello atom-center symmetry function\n",
    "of the form\n",
    "\n",
    "$$\n",
    "\\phi_k(r) = \\exp\\[-(r-r_s)^2/\\delta^2\\]  f_c(r_s)\n",
    "$$\n",
    "\n",
    "using a cosine cutoff function.\n",
    "\"\"\")\n",
    ")\n",
    "\n",
    "ex03_ref_input = [{\"rij_list\": np.array([1,3,4]), \"rcut\": 5, \"delta\": 1, \"rs\":5},\n",
    "                 {\"rij_list\": np.array([5,3,8]), \"rcut\": 6, \"delta\": 0.5, \"rs\":4}\n",
    "                 ]\n",
    "ex03_ref_output = [(0.04145736008495549,),\n",
    "                  (0.010384734606641187,)\n",
    "                  ]\n",
    "\n",
    "check_registry.add_check(ex03_code_demo,\n",
    "    asserts=[\n",
    "        assert_type,\n",
    "        assert_shape,\n",
    "        assert_numpy_allclose,\n",
    "    ],\n",
    "    inputs_parameters=ex03_ref_input,\n",
    "    outputs_references=ex03_ref_output\n",
    ")\n",
    "                         \n",
    "\n",
    "display(ex03_code_demo)"
   ]
  },
  {
   "cell_type": "code",
   "execution_count": null,
   "id": "4ecd9b80-cd13-4412-91c1-087cf6250ed5",
   "metadata": {},
   "outputs": [],
   "source": [
    "ex03_img = mpl.image.imread('figures/selected-env.jpg')\n",
    "def update_03(code_exercise):\n",
    "    rcut, delta, rs = code_exercise.parameters.values()\n",
    "    ax, aximg = code_exercise.cue_outputs[0].figure.get_axes()\n",
    "    aximg.imshow(ex02_img)\n",
    "    aximg.axis('off') \n",
    "    rgrid = np.linspace(0, rcut, 100)\n",
    "    ygrid = np.zeros_like(rgrid)\n",
    "    for ir, r in enumerate(rgrid):\n",
    "        ygrid[ir] = ex03_wci.get_function_object()([r], rcut, delta, rs)    \n",
    "    ax.plot(rgrid, ygrid, 'r-')\n",
    "    # ax.text(-4,8,f'$\\ell = ${l:.3f}')\n",
    "    ax.set_xlabel(r'$r$ / Å')\n",
    "    ax.set_ylabel(r'$\\phi_k(r)$')\n",
    "\n",
    "    labels = []\n",
    "    for dr, l in zip(nl_dr, [\"A\", \"B\", \"C\", \"D\", \"E\", \"F\"]):\n",
    "        acf = ex03_wci.get_function_object()(dr, rcut, delta, rs) \n",
    "        labels.append(f\"{l}: {acf:9.4f}\")\n",
    "    aximg.legend(handles=[mpl.patches.Patch(color=\"w\", )]*6, labels=labels,\n",
    "                 handlelength=0.1, loc='lower left')\n",
    "\n",
    "ex03_pb =  ParameterPanel(\n",
    "    rcut = FloatSlider(value=5,min=3,max=8,step=0.1,description=r'$r_{cut}$ / Å'),\n",
    "    delta = FloatSlider(value=0.5,min=0.1,max=2,step=0.1,description=r'$\\Delta$ / Å'),\n",
    "    rs = FloatSlider(value=5,min=3,max=8,step=0.1,description=r'$r_s$ / Å'),\n",
    "    )"
   ]
  },
  {
   "cell_type": "code",
   "execution_count": null,
   "id": "1a1cb8a4-4996-4601-a7c6-6611e252fc19",
   "metadata": {},
   "outputs": [],
   "source": [
    "ex03_figure, ex03_ax = plt.subplots(1, 2, figsize=(8,4), tight_layout=True)\n",
    "ex03_output = CueFigure(ex03_figure)\n",
    "ex03_ax[1].imshow(ex03_img)\n",
    "ex03_ax[1].axis('off') \n",
    "\n",
    "ex03_code_demo = CodeExercise(\n",
    "            code= ex03_wci,\n",
    "            parameters= ex03_pb,\n",
    "            check_registry=check_registry,\n",
    "            cue_outputs = [ex03_output],\n",
    "            update_func = update_03,\n",
    "    update_mode=\"manual\",\n",
    "    exercise_key=\"03\",\n",
    "    exercise_registry=exercise_registry,\n",
    "    exercise_title=\"Exercise 03: Radial ACSF\",\n",
    "    exercise_description=mdwn(\"\"\"\n",
    "Implement a function that computes a Behler-Parrinello atom-center symmetry function\n",
    "of the form\n",
    "\n",
    "$$\n",
    "\\phi_k(r) = \\exp\\[-(r-r_s)^2/\\delta^2\\]  f_c(r_s)\n",
    "$$\n",
    "\n",
    "using a cosine cutoff function.\n",
    "\"\"\")\n",
    ")\n",
    "\n",
    "ex03_ref_input = [{\"rij_list\": np.array([1,3,4]), \"rcut\": 5, \"delta\": 1, \"rs\":5},\n",
    "                 {\"rij_list\": np.array([5,3,8]), \"rcut\": 6, \"delta\": 0.5, \"rs\":4}\n",
    "                 ]\n",
    "ex03_ref_output = [(0.04145736008495549,),\n",
    "                  (0.010384734606641187,)\n",
    "                  ]\n",
    "\n",
    "check_registry.add_check(ex03_code_demo,\n",
    "    asserts=[\n",
    "        assert_type,\n",
    "        assert_shape,\n",
    "        assert_numpy_allclose,\n",
    "    ],\n",
    "    inputs_parameters=ex03_ref_input,\n",
    "    outputs_references=ex03_ref_output\n",
    ")\n",
    "                         \n",
    "\n",
    "display(ex03_code_demo)"
   ]
  },
  {
   "cell_type": "code",
   "execution_count": null,
   "id": "5127fc70-7c3b-4a7b-8dde-75b262057c0c",
   "metadata": {},
   "outputs": [],
   "source": [
    "ex03b_txt = TextExercise(\n",
    "    exercise_description=\"\"\"\n",
    "Observe how the shape of the symmetry function, and its value for the \n",
    "various environments, change with its parameters. Try to find values that maximise the difference\n",
    "between solid-like and liquid-like environments. \n",
    "    \"\"\",\n",
    "    exercise_registry=exercise_registry,\n",
    "    exercise_key=\"03b\",\n",
    "    exercise_title=\"Exercise 03b: ACSF.\"\n",
    ")\n",
    "display(ex03b_txt)"
   ]
  },
  {
   "cell_type": "markdown",
   "id": "ae459c2f-4470-4548-ac8a-4cf985881d1f",
   "metadata": {},
   "source": [
    "## Discretized density expansion\n",
    "\n",
    "The neighbor density provides a way to characterize the position of atoms in the vicinity of a tagged center. It is instructive to see it built up starting from a structure-level smooth atom density, in which a structure  $A$ is represented in terms of localized functions (e.g. Gaussians) centered on each atom $i$, \"labelled\" by their chemical nature $a$\n",
    "\n",
    "$$\n",
    "\\rho_A^a(\\mathbf{x}) = \\langle a \\mathbf{x} | A; \\rho\\rangle = \\sum_{i \\in A} \\delta_{a a_i} \\langle \\mathbf{x} | \\mathbf{r}_i \\rangle.\n",
    "$$\n",
    "\n",
    "Note how, by summing over $i$, the identity of atoms of the same species is lost, making the representation invariant to atom labeling. "
   ]
  },
  {
   "cell_type": "markdown",
   "id": "0b4ffd90-acbd-428f-921d-04bd2be25430",
   "metadata": {},
   "source": [
    "We use  the notation $\\langle \\mathbf{x} | \\mathbf{r}_i \\rangle = g(\\mathbf{x}-\\mathbf{r}_i)$ to emphasize how the full structure is built as a sum of terms that describe individual atoms, and how this description can be implemented in any continuous or discrete basis. \n",
    "\n",
    "In general terms, in analogy with the Dirac notation used to describe a quantum state, we use  $\\langle q | A\\rangle$ to indicate a descriptor $| A\\rangle$ for an entity $A$, discretized in a basis that is enumerated by the index $q$. \n",
    "See Section 3.1 of [this review](https://doi.org/10.1021/acs.chemrev.1c00021) for a gentler introduction. "
   ]
  },
  {
   "cell_type": "markdown",
   "id": "0ebe834d-5554-494a-ae3f-89ed5db51063",
   "metadata": {},
   "source": [
    "This density is then symmetrized with respect to translations (reflecting the fact that atomic properties are invariant to rigid translations of a molecule) which leads to expressing the structure descriptors as a sum of descriptors of _atom centered environments_ $A_i$,\n",
    "\n",
    "\n",
    "$$\n",
    "\\langle a \\mathbf{x} | A; \\rho\\rangle = \\sum_i \\langle a \\mathbf{x} | \\rho_i\\rangle\n",
    "$$\n",
    "\n",
    "$$\n",
    "\\langle a \\mathbf{x} | \\rho_i\\rangle = \\sum_{j \\in A_i} \\delta_{a a_j} \\langle \\mathbf{x} | \\mathbf{r}_{ji} \\rangle.\n",
    "$$\n",
    "\n",
    "where the Gaussians are evaluated at the interatomic distance vectors $\\mathbf{r}_{ji}=\\mathbf{r}_j-\\mathbf{r}_i$."
   ]
  },
  {
   "cell_type": "markdown",
   "id": "02652844-8d17-4782-8f29-afdd90dbfd1e",
   "metadata": {},
   "source": [
    "To manipulate this atom-centered density, it is more convenient to express it on a discrete basis. Guided by symmetry considerations, and in analogy with what is done routinely in quantum chemistry for the electron wafefunction (or density) we use a basis of radial functions $R_{nl}(x) \\equiv \\langle x|nl\\rangle$ and [spherical harmonics](https://en.wikipedia.org/wiki/Spherical_harmonics) $Y^m_{l}(\\hat{\\mathbf{x}}) \\equiv \\langle \\hat{\\mathbf{x}}|lm\\rangle$\n",
    "\n",
    "$$\n",
    "\\langle a nlm | \\rho_i\\rangle = \\int \\mathrm{d}\\mathbf{x} \n",
    " \\langle nl| x\\rangle  \\langle lm| \\hat{\\mathbf{x}} \\rangle\n",
    "\\langle a \\mathbf{x} | \\rho_i\\rangle  \n",
    "$$\n",
    "\n",
    "If you are confused by this rather abstract notation, you can also define the neighbor density as an explicit sum over neigbor positions $\\{\\mathbf{r}_{ij}\\}$,\n",
    "\n",
    "$$\n",
    "\\langle a nlm | \\rho_i\\rangle \\equiv \\rho_{nlm}^a(A_i) = \\sum_{j\\in A_i} Y^m_l(\\hat{\\mathbf{r}}_{ij}) \\tilde{R}_{nl}(r_{ij}),\n",
    "$$\n",
    "\n",
    "where the Gaussian smearing of the density has been implemented as a transformation of the radial basis. See [Goscinski et al.](http://doi.org/10.1063/5.0057229) for a derivation of the equivalence of the two expressions. "
   ]
  },
  {
   "cell_type": "code",
   "execution_count": null,
   "id": "28267ab1-f707-4582-9468-bf51d56d6307",
   "metadata": {},
   "outputs": [],
   "source": [
    "ex04_wci = CodeInput(\n",
    "        function_name=\"density_expansion\", \n",
    "        function_parameters=\"frame, rcut, nmax, lmax, sigma, select_idx\",\n",
    "        docstring=\"\"\"\n",
    "        compute a discretization of the neighbor density in terms \n",
    "        of radial functions and spherical harmonics. a Gaussian smearing\n",
    "        is applied to the neighbor density\n",
    "        \n",
    "        :param frame: ase.Atoms frame to compute\n",
    "        :param rcut: cutoff distance\n",
    "        :param nmax: number of radial functions\n",
    "        :param lmax: maximum angular momentum\n",
    "        :param sigma: Gaussian smearing of the density\n",
    "        :param select_idx: indices for the atoms to use as centers\n",
    "        \n",
    "        :returns: a TensorMap containing the density expansion coefficients\n",
    "\"\"\",\n",
    "        function_body=\"\"\"\n",
    "from rascaline import SphericalExpansion\n",
    "from metatensor import Labels\n",
    "\n",
    "# parameters of the density expansion\n",
    "hypers = {\n",
    "    \"cutoff\": rcut,\n",
    "    \"max_radial\": nmax,\n",
    "    \"max_angular\": lmax,\n",
    "    \"atomic_gaussian_width\": sigma,\n",
    "    \"cutoff_function\": {\"ShiftedCosine\": {\"width\": 0.5}}, # type of cutoff and parameters\n",
    "    \"center_atom_weight\": 1.0, # weight to include the central atom in the expansion\n",
    "    \"radial_basis\": { \"Gto\": {}, }, # choice of radial basis\n",
    "}\n",
    "\n",
    "calculator = SphericalExpansion(**hypers)\n",
    "\n",
    "if select_idx is None:\n",
    "    rhoi = calculator.compute(frame)\n",
    "else:\n",
    "    rhoi = calculator.compute(frame,\n",
    "            selected_samples=Labels(names=\"atom\", values=select_idx.reshape(-1,1))\n",
    "    )\n",
    "\n",
    "# Uncomment to print some of the metadata associated with the density coefficients\n",
    "# print(rhoi)\n",
    "# print(rhoi.block(1))\n",
    "\n",
    "return rhoi\n",
    "\"\"\"\n",
    ")"
   ]
  },
  {
   "cell_type": "code",
   "execution_count": null,
   "id": "1c88f57d-d15d-4a42-b517-40d7181188db",
   "metadata": {},
   "outputs": [],
   "source": [
    "ex04_pb =  ParameterPanel(\n",
    "    rcut = FloatSlider(value=5,min=3,max=8,step=0.1,description=r'$r_{cut}$ / Å'),\n",
    "    nmax = IntSlider(value=4,min=1,max=8,description=r'$n_{max}$'),\n",
    "    lmax = IntSlider(value=2,min=1,max=6,description=r'$l_{max}$'),\n",
    "    sigma = FloatSlider(value=0.5,min=0.3,max=1,step=0.1,description=r'$\\sigma$ / Å'),\n",
    "    environment = Dropdown(value=\"A\", options=[\"A\", \"B\", \"C\", \"D\", \"E\", \"F\"],\n",
    "                          description=\"environment\")\n",
    "    )\n",
    "\n",
    "ex04_img = mpl.image.imread('figures/selected-env.jpg')\n",
    "def combine_l(tmap, i_env):\n",
    "    feats=[]\n",
    "    for b in tmap:\n",
    "        feats.append(b.values[i_env])\n",
    "    return np.vstack(feats)\n",
    "\n",
    "ex04_cache_pars = (-1, -1, -1, -1, \"\")\n",
    "ex04_cache_value = None\n",
    "def update_04(code_exercise):\n",
    "    global ex04_cache_pars, ex04_cache_value\n",
    "    rcut, nmax, lmax, sigma, env = code_exercise.parameters.values()\n",
    "    ax, aximg = code_exercise.cue_outputs[0].figure.get_axes()\n",
    "    aximg.imshow(ex04_img)\n",
    "    aximg.axis('off') \n",
    "\n",
    "    if ex04_cache_pars == (rcut, nmax, lmax, sigma, ex04_wci.function_body):\n",
    "        rhoi = ex04_cache_value\n",
    "    else:\n",
    "        rhoi = ex04_wci.get_function_object()(frame_iron, rcut, nmax, lmax, sigma, sel_env_idx)\n",
    "        ex04_cache_value = rhoi\n",
    "        ex04_cache_pars = (rcut, nmax, lmax, sigma, ex04_wci.function_body)\n",
    "    envidx={\"A\":0, \"B\":1, \"C\":2, \"D\":3, \"E\":4, \"F\":5}\n",
    "    feats = combine_l(rhoi, envidx[env])\n",
    "    frange = np.max(np.abs(feats))\n",
    "    ax.matshow(feats.T, cmap='seismic', vmin=-frange, vmax=frange)\n",
    "    ax.set_ylabel(\"n\")\n",
    "    ax.set_xlabel(\"(l,m)\")\n",
    "    xticklabels = []\n",
    "    xtickpos = []\n",
    "    for l in range(lmax+1):\n",
    "        ax.add_patch(mpl.patches.Rectangle(\n",
    "            (-0.5+l**2,-0.5), 2*l+1, nmax,\n",
    "            edgecolor='black', facecolor='none', linewidth=3\n",
    "        ))\n",
    "        xticklabels.append(f\"$l={l}$\")\n",
    "        xtickpos.append((l)**2+l)\n",
    "    ax.set_xticks(xtickpos); ax.set_xticklabels(xticklabels)"
   ]
  },
  {
   "cell_type": "code",
   "execution_count": null,
   "id": "a6300403-ee29-4ab5-bb8f-303d08ea8a11",
   "metadata": {},
   "outputs": [],
   "source": [
    "ex04_figure, ex04_ax = plt.subplots(1, 2, figsize=(8,4), tight_layout=True)\n",
    "ex04_output = CueFigure(ex04_figure)\n",
    "ex04_ax[1].imshow(ex04_img)\n",
    "ex04_ax[1].axis('off') \n",
    "\n",
    "ex04_code_demo = CodeExercise(\n",
    "            code= ex04_wci,\n",
    "            parameters= ex04_pb,            \n",
    "            cue_outputs = [ex04_output],\n",
    "            update_func = update_04,\n",
    "    update_mode=\"release\",\n",
    "    exercise_key=\"04\",\n",
    "    exercise_registry=exercise_registry,\n",
    "    exercise_title=\"Exercise 04: Density expansion\",\n",
    "    exercise_description=mdwn(\"\"\"\n",
    "This exercise is set up to compute neighbor density expansion coefficients, based\n",
    "on the specified parameters. You can observe how the density coefficients change \n",
    "for different hyperparameters. You can also change other options that are not \n",
    "provided as function parameters, but make sure to revert them to the initial values\n",
    "as this function is also used in what follows.\n",
    "\n",
    "_NB:_ It takes a few seconds to update the figure when you change the hypers, but \n",
    "it should be faster to switch between environments, as the features are computed for\n",
    "all environments and cached. \n",
    "\"\"\")\n",
    ")\n",
    "\n",
    "display(ex04_code_demo)\n",
    "ex04_code_demo.run_update()"
   ]
  },
  {
   "cell_type": "code",
   "execution_count": null,
   "id": "ea79279c-5d72-44eb-ad65-e22d3bf24c17",
   "metadata": {},
   "outputs": [],
   "source": [
    "rhoi = ex04_wci.get_function_object()(frame_iron, 6.0, 4, 2, 0.5, sel_env_idx)"
   ]
  },
  {
   "cell_type": "markdown",
   "id": "150f68b2-25a9-45ac-ab04-e2b9a84b705f",
   "metadata": {},
   "source": [
    "`rascaline` calculators return a `metatensor.TensorMap` object, that works as a container that holds blocks of data. The pattern is reminiscent of a `dict`, but with some more structure and metadata: each block is associated with a _key_, which consists in a tuple of ints. The set of keys is a `metatensor.Labels` object, that also keeps track of the _names_ that describe each index in the key. \n",
    "\n",
    "The expansion keys hold the `o3_lambda` and `o3_sigma` indices that correspond to the angular momentum rotational symmetry and the symmetry with respect to inversion ($1$ being associated with the \"normal\" symmetry of a spherical harmonic. The two following indices correspond to the atomic number of the central atom `center_type` and of the neighbors `neighbor_type` - here 26 for both as we are dealing with pure iron.  \n",
    "\n",
    "For instance, if you compute a `TensorMap` that contains density coefficients, `rhoi`, you can print an overview of the map content\n",
    "\n",
    "```python\n",
    "print(rhoi)\n",
    "```"
   ]
  },
  {
   "cell_type": "code",
   "execution_count": null,
   "id": "aae6ef6f-7394-4c07-b1f1-efb3d6f2f254",
   "metadata": {},
   "outputs": [],
   "source": [
    "print(rhoi)"
   ]
  },
  {
   "cell_type": "markdown",
   "id": "19949971-b656-4e10-b789-379a03967f9a",
   "metadata": {},
   "source": [
    "<center><img src=\"figures/mtt-tensorblock-components.svg\" width=\"300\"/><br/>\n",
    "<i> Structure of a TensorBlock</i><br/><br/>\n",
    "</center>\n",
    "\n",
    "Each entry in a `TensorMap` is a `TensorBlock` object, that contains a dense storage of properties, with three axes that identify the `samples` the properties refer to, their `components` (e.g. the $m$ index in a spherical harmonic of order $l$) and the actual `properties`, that may be associated with further indices that enumerate all possible values (e.g. the radial basis index $n$). \n",
    "\n",
    "If you print out one of the blocks, you will get an overview of the associated metadata, e.g.\n",
    "\n",
    "```python\n",
    "print(rhoi).block(1)\n",
    "```"
   ]
  },
  {
   "cell_type": "code",
   "execution_count": null,
   "id": "a88f78bb-20a6-4dc5-9980-62930e57a269",
   "metadata": {},
   "outputs": [],
   "source": [
    "print(rhoi.block(1))"
   ]
  },
  {
   "cell_type": "markdown",
   "id": "aaa5bc2c-849d-46a6-b19e-626c23c0fb00",
   "metadata": {},
   "source": [
    "You can see the [metatensor documentation](http://docs.metatensor.org) if you want to find out how to manipulate and access the entries in a `TensorMap` or `TensorBlock`. We will see a few examples further down. "
   ]
  },
  {
   "cell_type": "markdown",
   "id": "bd83cdf9-9ac1-4ff3-867c-bb94015ee9a3",
   "metadata": {},
   "source": [
    "## Three-body correlations: SOAP features"
   ]
  },
  {
   "cell_type": "markdown",
   "id": "e8d1cb1b-585a-4d8a-9251-912a21e0a756",
   "metadata": {},
   "source": [
    "The $l=0$ part of the density-expansion coefficients $\\langle an00|\\rho_i\\rangle$ corresponds to a discretization of the pair correlation function: using a real-space basis,\n",
    "\n",
    "$$\n",
    "    \\langle ax00|\\rho_i\\rangle \\approx \\sum_{j\\in A_i} \\delta_{a a_j} \\langle x | r_{ji} \\rangle \n",
    "$$\n",
    "\n",
    "where $ \\langle x | r_{ji} \\rangle $ is a localized function centered on $r_{ji}$. "
   ]
  },
  {
   "cell_type": "markdown",
   "id": "3728c23d-f873-4f7a-b378-8ec18e097815",
   "metadata": {},
   "source": [
    "In order to obtain a richer description of the atomic environment it is possible to combine several copies of $\\langle a\\mathbf{x} | \\rho_i \\rangle$, to build $\\nu$-neighbors atom-centered density correlations (ACDCs). \n",
    "The formalism we use was introduced by [Willatt et al.](https://doi.org/10.1063/1.5090481), and is explained in detail, discussing its relation with the leading frameworks for atomistic machine learning, in a [review by Musil et al.](https://doi.org/10.1021/acs.chemrev.1c00021)\n",
    "\n",
    "Essentially, the idea is that considering tensor products of the atom density provides simultaneous information on the mutual position of several neighbors\n",
    "\n",
    "$$\n",
    "\\langle \\mathbf{x} |  \\rho_i \\rangle \\langle \\mathbf{x}' |  \\rho_i \\rangle =\n",
    "\\sum_{jj'\\in A_i}\n",
    "\\langle \\mathbf{x} |\\mathbf{r}_{ji} \\rangle \\langle \\mathbf{x}' |\\mathbf{r}_{j'i} \\rangle. \n",
    "$$\n",
    "\n",
    "The invariant part of this two-neighbor correlation function can be extracted by taking a symmetrized product of the density coefficients,\n",
    "$$\n",
    "\\langle aa'nn'l|\\overline{\\rho_i^{\\otimes 2}}\\rangle \\propto \n",
    "\\sum_m  \\langle anlm|\\rho_i\\rangle \\langle a'n'lm|\\rho_i\\rangle\n",
    "$$\n",
    "\n",
    "These are the [SOAP powerspectrum coefficients](http://doi.org/10.1103/PhysRevB.87.184115), that have been widely used in machine-learning models and especially in the context of Gaussian approximation potentials - kernel models based on SOAP features (see [Deringer et al. 2021](http://doi.org/10.1021/acs.chemrev.1c00022) for a review of kernel methods in the field). "
   ]
  },
  {
   "cell_type": "markdown",
   "id": "255c7a6e-3836-4037-8dd2-78599a0f5188",
   "metadata": {},
   "source": [
    "For those confused by the Dirac notation, this can be written using the vectorial notation for the density descriptors, $\\rho_{nlm}^a(A_i)$: \n",
    "\n",
    "$$\n",
    "p_{nn'l}^{aa'}(A_i) \\propto \\sum_m \\rho_{nlm}^a(A_i)\\rho_{n'lm}^{a'}(A_i)\n",
    "$$\n",
    "\n",
    "Using the [addition theorem for spherical harmonics](https://mathworld.wolfram.com/SphericalHarmonicAdditionTheorem.html) it is possible to draw a connection between the SOAP powerspectrum and three-body symmetry functions computed as a sum over pairs of neighbors. Ignoring for simplicity the element indices, \n",
    "\n",
    "$$\n",
    "\\langle nn'l|\\overline{\\rho_i^{\\otimes 2}}\\rangle \\propto\n",
    "\\sum_{jj'\\in A_i} \\tilde{R}_{nl}(r_{ij}) \\tilde{R}_{nl}(r_{ij'}) P_l(\\hat{\\mathbf{r}}_{ij}\\cdot \\hat{\\mathbf{r}}_{ij'})\n",
    "$$\n",
    "\n",
    "One sees that computing SOAP features from the density expansion avoids the double sum over neighbors, at the cost of computing a large number of $m$ components of the spherical harmonics - an idea often referred to as the _density trick_."
   ]
  },
  {
   "cell_type": "code",
   "execution_count": null,
   "id": "27eea3e1-335d-4fb1-92fb-9074630c5b52",
   "metadata": {},
   "outputs": [],
   "source": []
  },
  {
   "cell_type": "markdown",
   "id": "a69951cb-5e1d-4385-83e6-326185b92817",
   "metadata": {},
   "source": [
    "`rascaline` provides the infrastructure to evaluate SOAP features using the `SoapPowerSpectrum` calculator. We can compare the results with those obtained by explicitly computing the symmetrized products. "
   ]
  },
  {
   "cell_type": "code",
   "execution_count": null,
   "id": "f8c02855-3c53-4c6f-9d41-48a31fee127d",
   "metadata": {},
   "outputs": [],
   "source": []
  },
  {
   "cell_type": "markdown",
   "id": "71cbcfe3-ff22-48a5-bbde-aafe461db710",
   "metadata": {},
   "source": [
    "# Automatic identification of environments"
   ]
  },
  {
   "cell_type": "markdown",
   "id": "90b43117-b730-4bd4-8523-9571bdd6d158",
   "metadata": {},
   "source": [
    "In this section we try to come up with a strategy to differentiate between solid-like and liquid-like regions. This is not easy, because the snapshot is taken from a finite-temperature simulation, and even in the solid parts the atomic positions are free to fluctuate. \n",
    "We will look at plots for a thin slie within the sample, to keep the cost of computing descriptors (that use the Python functions you defined previously) as low as possible. "
   ]
  },
  {
   "cell_type": "code",
   "execution_count": null,
   "id": "32c88536-a3c3-4ade-93cb-52a07cb5fe18",
   "metadata": {},
   "outputs": [],
   "source": [
    "selection = np.sort(np.where((frame_iron.positions[:,0]>max_cutoff+1) & (frame_iron.positions[:,0]<199-max_cutoff) &\n",
    "                     (frame_iron.positions[:,1]>max_cutoff+1) & (frame_iron.positions[:,1]<199-max_cutoff) & \n",
    "                     (frame_iron.positions[:,2]>20) & (frame_iron.positions[:,2]<24)\n",
    "                    )[0])"
   ]
  },
  {
   "cell_type": "code",
   "execution_count": null,
   "id": "e9a054cd-249c-45da-a58b-61ac10938040",
   "metadata": {},
   "outputs": [],
   "source": [
    "nl_code = rascaline.NeighborList(cutoff=6.0, full_neighbor_list=True)"
   ]
  },
  {
   "cell_type": "code",
   "execution_count": null,
   "id": "00c857ca-d5fe-4a34-8291-3495cb09611a",
   "metadata": {},
   "outputs": [],
   "source": [
    "#%%time \n",
    "nl_all = nl_code.compute(frame_iron)\n",
    "#                    selected_samples=Labels(names=[\"first_atom\"], values=selection[:,np.newaxis]))"
   ]
  },
  {
   "cell_type": "code",
   "execution_count": null,
   "id": "c4aa4369-45dd-46e3-880f-e896504f27b4",
   "metadata": {},
   "outputs": [],
   "source": [
    "#%%time\n",
    "#nl_selected = slice_block(nl_all.block(0),axis=\"samples\", \n",
    "#            labels=Labels(names=[\"first_atom\"], values=selection[:,np.newaxis]))\n",
    "#this is way too slow"
   ]
  },
  {
   "cell_type": "code",
   "execution_count": null,
   "id": "55e109b5-065a-485b-ab9f-e161321b2190",
   "metadata": {},
   "outputs": [],
   "source": [
    "#%%time\n",
    "# this is a better way to do this, exploiting the fact we are looking \n",
    "# for a single index match in an integer array\n",
    "# extract int arrays\n",
    "labs = np.sort(selection)\n",
    "samp = np.asarray(nl_all.block(0).samples[\"first_atom\"])\n",
    "mask = np.zeros(len(samp), dtype=bool)\n",
    "\n",
    "# sorting order and reverse order\n",
    "sort_idx = np.argsort(samp)\n",
    "sort_inv = np.argsort(sort_idx)\n",
    "sort_samp = samp[sort_idx]\n",
    "\n",
    "# now blocks with the same atom are contiguous so we can use searchsorted to find the bounds\n",
    "lower = np.searchsorted(sort_samp,  labs)\n",
    "upper = np.searchsorted(sort_samp,  labs+1)\n",
    "\n",
    "\n",
    "for l,u in zip(lower, upper):\n",
    "    mask[l:u] = True\n",
    "mask = mask[sort_inv]"
   ]
  },
  {
   "cell_type": "code",
   "execution_count": null,
   "id": "956e7375-f32d-478b-adfb-e4eda397e041",
   "metadata": {},
   "outputs": [],
   "source": [
    "# actually we better extract a classical NL\n",
    "neigh_dx = nl_all.block(0).values[sort_idx][mask].squeeze()\n",
    "neigh_sz = (upper-lower)\n",
    "neigh_i = np.cumsum(neigh_sz) -neigh_sz[0]\n",
    "neigh_dr = np.sqrt((neigh_dx**2).sum(axis=1))"
   ]
  },
  {
   "cell_type": "markdown",
   "id": "36afb770-8eac-4ce3-8bc5-5684eb1f1db9",
   "metadata": {},
   "source": [
    "## Manually tuning a descriptor\n",
    "\n",
    "A first way to define a structural desciptor is to come up with one based on intuition, or trial-and-error. For example, one could take an ACSF, and optimize its parameters to find some that have a high discriminating power. As we shall see, this is not necessarily an easy task!"
   ]
  },
  {
   "cell_type": "code",
   "execution_count": null,
   "id": "476490ea-0b88-40b5-9f4b-98984947c759",
   "metadata": {},
   "outputs": [],
   "source": [
    "ex07_figure, ex07_ax = plt.subplots(1, 2, figsize=(8,4), tight_layout=True)\n",
    "ex07_output = CueFigure(ex07_figure)\n",
    "\n",
    "ex07_xy = frame_iron.positions[selection,:2]\n",
    "ex07_cbar = None\n",
    "def update_07(code_exercise):\n",
    "    global ex07_cbar\n",
    "    rcut, delta, rs = code_exercise.parameters.values()\n",
    "    fig = code_exercise.cue_outputs[0].figure\n",
    "        \n",
    "    ax = fig.get_axes()[0]\n",
    "    ax.axis('off')\n",
    "    vals = np.zeros(len(selection))\n",
    "    acsf=ex03_wci.get_function_object()\n",
    "    for i in tqdm(range(len(vals))):\n",
    "        vals[i] = acsf(neigh_dr[neigh_i[i]:neigh_i[i]+neigh_sz[i]], delta=delta, rs=rs, rcut=rcut)\n",
    "    cax=ax.scatter(ex07_xy[:,0], ex07_xy[:,1], c=vals, marker='.', s=5,\n",
    "                  vmin=vals.min(), vmax = vals.max() )       \n",
    "    \n",
    "    if ex07_cbar is None:\n",
    "        ex07_cbar = fig.colorbar(cax, ax=ax )\n",
    "    else:\n",
    "        ex07_cbar.update_normal(cax)\n",
    "\n",
    "    ax = fig.get_axes()[1]\n",
    "    ax.hist(vals, color='red', bins=50)\n",
    "    ax.set_xlabel(r\"$\\xi$\")\n",
    "    ax.set_ylabel(r\"counts\")\n",
    "\n",
    "ex07_pb =  ParameterPanel(\n",
    "    rcut = FloatSlider(value=5,min=3,max=8,step=0.1,description=r'$r_{cut}$ / Å'),\n",
    "    delta = FloatSlider(value=0.5,min=0.1,max=2,step=0.1,description=r'$\\Delta$ / Å'),\n",
    "    rs = FloatSlider(value=5,min=3,max=8,step=0.1,description=r'$r_s$ / Å'),\n",
    "    )\n",
    "\n",
    "ex07_code_demo = CodeExercise(\n",
    "    parameters= ex07_pb,\n",
    "    cue_outputs = [ex07_output],\n",
    "    update_func = update_07,\n",
    "    update_mode=\"manual\",\n",
    "    #exercise_key=\"07\",\n",
    "    exercise_title=\"Exercise 07: Radial ACSF as a structural fingerprint\",\n",
    "    exercise_description=mdwn(\"\"\"\n",
    "Play around with the ACSF parameters (this exercise uses the function *you* implemented\n",
    "in exercise 03), and see if you can find values that differentiate clearly between liquid-like\n",
    "and solid-like environments.\n",
    "\"\"\"\n",
    "))"
   ]
  },
  {
   "cell_type": "code",
   "execution_count": null,
   "id": "64a4c71e-e0a6-4539-a98c-5384a4edfef9",
   "metadata": {},
   "outputs": [],
   "source": [
    "display(ex07_code_demo)\n",
    "ex07_code_demo.run_update()"
   ]
  },
  {
   "cell_type": "code",
   "execution_count": null,
   "id": "657eae8e-2227-42cc-a5c4-741dd85aed92",
   "metadata": {},
   "outputs": [],
   "source": [
    "ex07b_txt = TextExercise(\n",
    "    exercise_description=\"\"\"\n",
    "Observe the variability in the descriptor values.\n",
    "Why do you think it's hard to find good values for the ACSF to make it good at discriminating?\n",
    "Think also at the radial function plots in exercise 02.\n",
    "    \"\"\",\n",
    "    exercise_registry=exercise_registry,\n",
    "    exercise_key=\"07b\",\n",
    "    exercise_title=\"\"\n",
    ")\n",
    "display(ex07b_txt)"
   ]
  },
  {
   "cell_type": "markdown",
   "id": "c62d3aba-65c7-42a8-9103-4b8840dd8fbc",
   "metadata": {},
   "source": [
    "## Principal component analysis\n",
    "\n",
    "We could then try to compute many symmetry functions (or equivalently to use the radial descriptors that are discretized on a grid). We would however than have the problem of having a large number of fingerprints for each environment: how to then use a single value to identify the two phases? Luckily, we can use a principal component analysis to identify different modes!"
   ]
  },
  {
   "cell_type": "code",
   "execution_count": null,
   "id": "482a7811-9e28-4ca4-99ca-c19dd3bf5cd3",
   "metadata": {},
   "outputs": [],
   "source": [
    "ex08_wci = CodeInput(\n",
    "        function_name=\"features_pca\", \n",
    "        function_parameters=\"xi_list, n_components\",\n",
    "        docstring=\"\"\"\n",
    "        perform a princpal component analysis of a list of environment descriptors\n",
    "        \n",
    "        \n",
    "        :param xi_list: a list of features computed for some atomic environments\n",
    "        :param n_components: the number of PCA components to evaluate\n",
    "        \n",
    "        :returns: the list of PCA features for the given environments\n",
    "\"\"\",\n",
    "        function_body=\"\"\"\n",
    "# here you only have to call sklearn functions, see ex. 01 or the sklearn documentation\n",
    "# if you forgot how to perform PCA. for simplicity (and given there are way more environments\n",
    "# than descriptors and components) you should apply the transformation to the same features\n",
    "# so you can also use fit_transform. \n",
    "\n",
    "pca = xi_list\n",
    "return pca\n",
    "\"\"\"\n",
    "        )"
   ]
  },
  {
   "cell_type": "code",
   "execution_count": null,
   "id": "09aa7b59-c65f-4461-85ec-88634410b9b1",
   "metadata": {},
   "outputs": [],
   "source": [
    "ex08_figure, ex08_ax = plt.subplots(1, 2, figsize=(8,4), tight_layout=True)\n",
    "ex08_output = CueFigure(ex08_figure)\n",
    "\n",
    "ex08_xy = frame_iron.positions[selection,:2]\n",
    "ex08_cbar = None\n",
    "ex08_cache_pars=(-1,-1,\"\")\n",
    "ex08_cache_vals=None\n",
    "def update_08(code_exercise):\n",
    "    global ex08_cbar, ex08_cache_pars, ex08_cache_vals\n",
    "    rcut, ngrid, ipca = code_exercise.parameters.values()\n",
    "    fig = code_exercise.cue_outputs[0].figure\n",
    "\n",
    "    # cache values if we only change ipca\n",
    "    if (ex08_cache_pars[0] == rcut and \n",
    "        ex08_cache_pars[1] == ngrid and\n",
    "        ex08_cache_pars[2] == ex02_wci.function_body):\n",
    "        vals = ex08_cache_vals\n",
    "    else:\n",
    "        vals = np.zeros((len(selection), ngrid))\n",
    "        radial=ex02_wci.get_function_object()\n",
    "        for i in tqdm(range(len(vals))):\n",
    "            vals[i] = radial(neigh_dr[neigh_i[i]:neigh_i[i]+neigh_sz[i]], rcut=rcut, ngrid=ngrid)\n",
    "        ex08_cache_vals  = vals\n",
    "        ex08_cache_pars = (rcut, ngrid, ex02_wci.function_body)\n",
    "        \n",
    "    ax = fig.get_axes()[0]\n",
    "    ax.axis('off')\n",
    "    \n",
    "    pcafull = ex08_wci.get_function_object()(vals, n_components=8)\n",
    "    pca = pcafull[:,ipca]\n",
    "    cax=ax.scatter(ex08_xy[:,0], ex08_xy[:,1], c=pca, marker='.', s=5,\n",
    "                  vmin=pca.min(), vmax = pca.max() )       \n",
    "    \n",
    "    if ex08_cbar is None:\n",
    "        ex08_cbar = fig.colorbar(cax, ax=ax )\n",
    "    else:\n",
    "        ex08_cbar.update_normal(cax)\n",
    "\n",
    "    ax = fig.get_axes()[1]\n",
    "    ax.hist(pca, color='red', bins=50)\n",
    "    ax.set_xlabel(r\"PCA\")\n",
    "    ax.set_ylabel(r\"counts\")\n",
    "\n",
    "ex08_pb =  ParameterPanel(\n",
    "    rcut = FloatSlider(value=5,min=3,max=8,step=0.1,description=r'$r_{cut}$ / Å'),\n",
    "    ngrid = IntSlider(value=8,min=4,max=32,step=1,description=r'$n_{grid}$'),\n",
    "    ipca = IntSlider(value=0,min=0,max=6,step=1,description=r'$i_{PCA}$')\n",
    "    )\n",
    "                         \n",
    "ex08_code_demo = CodeExercise(\n",
    "    code=ex08_wci,\n",
    "    check_registry=check_registry,\n",
    "    parameters= ex08_pb,\n",
    "    cue_outputs = [ex08_output],\n",
    "    update_func = update_08,\n",
    "    update_mode=\"manual\",\n",
    "    exercise_key=\"08\",\n",
    "    exercise_registry=exercise_registry,\n",
    "    exercise_title=\"Exercise 08: Feature PCA\",\n",
    "    exercise_description=mdwn(\"\"\"\n",
    "Write a function that computes the principal component analysis for a set of \n",
    "descriptors. The visualizer will then compute radial features using the code you\n",
    "wrote in exercise 01, with the parameters specified, and plot the color-coded\n",
    "structure and a histogram of the projected features. You can select which PCA\n",
    "component you display.\n",
    "\n",
    "_NB:_ It can take up to a minute to compute all the radial descriptors, but the \n",
    "viewer will cache the values so as long as you only change the PCA index the \n",
    "plotting will be almost instantaneous. This function will also be used in \n",
    "some of the following exercises so make sure it works correctly!\n",
    "\"\"\"\n",
    "))"
   ]
  },
  {
   "cell_type": "code",
   "execution_count": null,
   "id": "cb5fb35d-a452-4b87-8993-10547c67894b",
   "metadata": {},
   "outputs": [],
   "source": [
    "\n",
    "ex08_ref_input = [{\"xi_list\": np.array([[1,3,4],[2,5,7],[12,-5,7]]), \"n_components\":2},\n",
    "                 {\"xi_list\": np.array([[11,32,4],[23,3,-7],[23,5,7],[12,-5,7]]), \"n_components\": 3}\n",
    "                 ]\n",
    "ex08_ref_output = [(np.array([[-4.52278769,  1.88265544],\n",
    "         [-4.7507803 , -1.85204928],\n",
    "         [ 9.27356799, -0.03060617]]),),\n",
    " (np.array([[ 24.04316249,  -1.42811158,  -1.03650133],\n",
    "         [ -7.06128363,  10.24872457,  -2.50787124],\n",
    "         [ -4.63236046,  -0.28829947,   6.60648318],\n",
    "         [-12.3495184 ,  -8.53231352,  -3.0621106 ]]),)]\n",
    "\n",
    "check_registry.add_check(ex08_code_demo,\n",
    "    asserts=[\n",
    "        assert_type,\n",
    "        assert_shape,\n",
    "        assert_numpy_allclose,\n",
    "    ],\n",
    "    inputs_parameters=ex08_ref_input,\n",
    "    outputs_references=ex08_ref_output\n",
    ")"
   ]
  },
  {
   "cell_type": "code",
   "execution_count": null,
   "id": "f69f427f-caa5-4173-a5da-d5952f435178",
   "metadata": {},
   "outputs": [],
   "source": [
    "display(ex08_code_demo)"
   ]
  },
  {
   "cell_type": "code",
   "execution_count": null,
   "id": "b345ddb7-a65c-4854-9787-670bfe996650",
   "metadata": {},
   "outputs": [],
   "source": [
    "ex08b_txt = TextExercise(\n",
    "    exercise_description=\"\"\"\n",
    "Observe the range spanned by the different components. How does it change with increasing index?\n",
    "Why? Is the first fingerprint the best at distinguishing solid and liquid?\n",
    "    \"\"\",\n",
    "    exercise_registry=exercise_registry,\n",
    "    exercise_key=\"08b\",\n",
    "    exercise_title=\"\"\n",
    ")\n",
    "display(ex08b_txt)"
   ]
  },
  {
   "cell_type": "code",
   "execution_count": null,
   "id": "3cb0f28c-5d53-4389-9383-f9eff65256e8",
   "metadata": {},
   "outputs": [],
   "source": [
    "ex08c_txt = TextExercise(\n",
    "    exercise_description=\"\"\"\n",
    "Can you get much better results than with the ACSF-based approach? \n",
    "The difference between solid and liquid regions should be\n",
    "clearly reflected in the color-coded structure, and\n",
    "an ideal fingerprint should show clearly a bimodal distribution.\n",
    "    \"\"\",\n",
    "    exercise_registry=exercise_registry,\n",
    "    exercise_key=\"08c\",\n",
    "    exercise_title=\"\"\n",
    ")\n",
    "display(ex08c_txt)"
   ]
  },
  {
   "cell_type": "markdown",
   "id": "01db5790-057a-4a8d-b7a8-fe1c000fbd23",
   "metadata": {},
   "source": [
    "## Incorporating directional information with density descriptors"
   ]
  },
  {
   "cell_type": "markdown",
   "id": "457fd8af-588c-4b21-bfed-46a9c8cefc35",
   "metadata": {},
   "source": [
    "If the problem is that the radial descriptors do not have enough resolution to identify soldi structures, it makes sense to use features that are aware of the directional information such as the density descriptors. Given the large number of descriptors available, we also perform a PCA to select the most informative combinations. Note that this section uses the functions you have introduced above in exercises 4 and 8, to compute the density descriptors and to perform the PCA. "
   ]
  },
  {
   "cell_type": "code",
   "execution_count": null,
   "id": "d420109a-7f16-4534-b9da-c7eb0184ded5",
   "metadata": {},
   "outputs": [],
   "source": [
    "def combine_l_all(tmap):\n",
    "    feats=[]\n",
    "    for b in tmap:\n",
    "        feats.append(b.values.reshape((len(b.values),-1)) )\n",
    "    return np.hstack(feats)"
   ]
  },
  {
   "cell_type": "code",
   "execution_count": null,
   "id": "262cbd4b-92e9-4890-8898-12674225f5b6",
   "metadata": {},
   "outputs": [],
   "source": [
    "ex09_figure, ex09_ax = plt.subplots(1, 2, figsize=(8,4), tight_layout=True)\n",
    "ex09_output = CueFigure(ex09_figure)\n",
    "\n",
    "ex09_xy = frame_iron.positions[selection,:2]\n",
    "ex09_cbar = None\n",
    "ex09_cache_pars=(-1,-1,\"\")\n",
    "ex09_cache_vals=None\n",
    "def update_09(code_exercise):\n",
    "    global ex09_cbar, ex09_cache_pars, ex09_cache_vals\n",
    "    rcut, nmax, lmax, sigma, ipca = code_exercise.parameters.values()\n",
    "    fig = code_exercise.cue_outputs[0].figure\n",
    "\n",
    "    # cache values if we only change ipca\n",
    "    if (ex09_cache_pars == (rcut, nmax, lmax, sigma, ex04_wci.function_body) ):\n",
    "        vals = ex09_cache_vals\n",
    "    else:        \n",
    "        dsel = len(selection)//8 +1\n",
    "        vals = [] \n",
    "        for i in tqdm(range(8)): # compute in pieces so we can show progress\n",
    "            rhoi = ex04_wci.get_function_object()(frame_iron, rcut, nmax, lmax, sigma, selection[i*dsel:(i+1)*dsel])\n",
    "            vals.append(combine_l_all(rhoi))        \n",
    "        vals = np.vstack(vals)\n",
    "        ex09_cache_vals  = vals\n",
    "        ex09_cache_pars = (rcut, nmax, lmax, sigma, ex04_wci.function_body)\n",
    "        \n",
    "    ax = fig.get_axes()[0]\n",
    "    ax.axis('off')\n",
    "    \n",
    "    pcafull = ex08_wci.get_function_object()(vals, n_components=8)\n",
    "    pca = pcafull[:,ipca]\n",
    "    cax=ax.scatter(ex09_xy[:,0], ex09_xy[:,1], c=pca, marker='.', s=5,\n",
    "                  vmin=pca.min(), vmax = pca.max() )       \n",
    "    \n",
    "    if ex09_cbar is None:\n",
    "        ex09_cbar = fig.colorbar(cax, ax=ax )\n",
    "    else:\n",
    "        ex09_cbar.update_normal(cax)\n",
    "\n",
    "    ax = fig.get_axes()[1]\n",
    "    ax.hist(pca, color='red', bins=50)\n",
    "    ax.set_xlabel(r\"PCA\")\n",
    "    ax.set_ylabel(r\"counts\")\n",
    "\n",
    "ex09_pb =  ParameterPanel(\n",
    "    rcut = FloatSlider(value=4,min=3,max=8,step=0.1,description=r'$r_{cut}$ / Å'),\n",
    "    nmax = IntSlider(value=4,min=1,max=8,description=r'$n_{max}$'),\n",
    "    lmax = IntSlider(value=6,min=1,max=8,description=r'$l_{max}$'),\n",
    "    sigma = FloatSlider(value=0.5,min=0.3,max=1,step=0.1,description=r'$\\sigma$ / Å'),\n",
    "    ipca = IntSlider(value=0,min=0,max=6,step=1,description=r'$i_{PCA}$')\n",
    "    )\n",
    "                         \n",
    "ex09_code_demo = CodeExercise(\n",
    "    parameters= ex09_pb,\n",
    "    cue_outputs = [ex09_output],\n",
    "    update_func = update_09,\n",
    "    update_mode=\"manual\",\n",
    "    #exercise_key=\"09\",\n",
    "    #exercise_registry=exercise_registry,\n",
    "    #exercise_title=\"Exercise 09: Density expansion PCA\",\n",
    "    #exercise_description=mdwn(\"\"\" \"\"\")\n",
    ")"
   ]
  },
  {
   "cell_type": "markdown",
   "id": "9c37d866-7729-4e90-881c-00f1a9b0bd39",
   "metadata": {},
   "source": [
    "Experiment with the parameters of the density expansion to see if you can identify more clearly the solid regions. \n",
    "Note that it takes up to a minute to recompute descriptors after you change the parameters so be patient. \n",
    "\n",
    "_Hint:_ You'll probably need to include high values of $l$. Given there is lots of directional information, low-cutoff values are usually sufficient (and even beneficial)"
   ]
  },
  {
   "cell_type": "code",
   "execution_count": null,
   "id": "d16d58d5-6a43-426e-a86c-3c0343e9704f",
   "metadata": {},
   "outputs": [],
   "source": [
    "display(ex09_code_demo)"
   ]
  },
  {
   "cell_type": "code",
   "execution_count": null,
   "id": "da1c3a16-53b8-4a2e-b263-ffeb3c0a3695",
   "metadata": {},
   "outputs": [],
   "source": [
    "ex09b_txt = TextExercise(\n",
    "    exercise_key=\"09b\",\n",
    "    exercise_registry=exercise_registry,\n",
    "    exercise_title=\"\",\n",
    "    exercise_description=mdwn(\"\"\"\n",
    "Note the values of the PCA features for the different solid regions. \n",
    "Do they differ? Why? We will investigate this further in the next exercises.\n",
    "\"\"\") )\n",
    "    \n",
    "display(ex09b_txt)"
   ]
  },
  {
   "cell_type": "code",
   "execution_count": null,
   "id": "d9ab19e7-d78d-4b94-9f91-223c075e1398",
   "metadata": {},
   "outputs": [],
   "source": [
    "acsf=ex03_wci.get_function_object()"
   ]
  },
  {
   "cell_type": "code",
   "execution_count": null,
   "id": "d9fbfac8-7475-4f1e-a060-094a8dd78be5",
   "metadata": {},
   "outputs": [],
   "source": [
    "vals"
   ]
  },
  {
   "cell_type": "code",
   "execution_count": null,
   "id": "69a04078-b125-43fa-89cb-684455ebc359",
   "metadata": {},
   "outputs": [],
   "source": [
    "neigh_dr[neigh_i[0]:neigh_i[0]+neigh_sz[0]]"
   ]
  },
  {
   "cell_type": "code",
   "execution_count": null,
   "id": "9a3573a7-b867-470c-8aa9-cafe79b45edc",
   "metadata": {},
   "outputs": [],
   "source": [
    "acsf(neigh_dr[neigh_i[0]:neigh_i[0]+neigh_sz[0]], delta=0.2, rs=5, rcut=8)"
   ]
  },
  {
   "cell_type": "code",
   "execution_count": null,
   "id": "b98cb986-e488-4bd7-bee6-377a983fd6fb",
   "metadata": {},
   "outputs": [],
   "source": [
    "acsf(neigh_dr[neigh_i[0]:neigh_i[0]+neigh_sz[0]], delta=0.2, rs=5, rcut=8)"
   ]
  },
  {
   "cell_type": "code",
   "execution_count": null,
   "id": "e14a457f-906c-4d10-ab6d-0c91113ef2be",
   "metadata": {},
   "outputs": [],
   "source": []
  },
  {
   "cell_type": "code",
   "execution_count": null,
   "id": "e026baa0-8910-49ea-86e5-e97dda0f61da",
   "metadata": {},
   "outputs": [],
   "source": [
    "xy.shape"
   ]
  },
  {
   "cell_type": "code",
   "execution_count": null,
   "id": "681403ce-2cf5-40c5-8499-66d1ee7f7163",
   "metadata": {},
   "outputs": [],
   "source": [
    "vals = np.zeros(len(selection))\n",
    "for i in range(len(vals)):\n",
    "    vals[i] = acsf(neigh_dr[neigh_i[i]:neigh_i[i]+neigh_sz[i]], delta=0.5, rs=5., rcut=5)\n",
    "xy = frame_iron.positions[selection,:2]\n",
    "plt.close('all')\n",
    "plt.scatter(xy[:,0], xy[:,1], c=vals, marker='.', s=4)\n",
    "plt.show()"
   ]
  },
  {
   "cell_type": "code",
   "execution_count": null,
   "id": "d04c1ca9-6d71-4698-b5cd-53d727c9b0f9",
   "metadata": {},
   "outputs": [],
   "source": [
    "%%time\n",
    "test=np.searchsorted(a[:,0], labs)"
   ]
  },
  {
   "cell_type": "code",
   "execution_count": null,
   "id": "ff37559c-1160-442d-92e0-4d64f6712aa9",
   "metadata": {},
   "outputs": [],
   "source": [
    "%%time\n",
    "sort_idx = np.argsort(samp[:,0])\n",
    "sort_inv = np.argsort(sort_idx)"
   ]
  },
  {
   "cell_type": "code",
   "execution_count": null,
   "id": "1d169b4a-2e98-4de8-8de0-80ddb7224810",
   "metadata": {},
   "outputs": [],
   "source": [
    "sort_samp = samp[sort_idx]\n",
    "sort_labs = np.sort(labs)"
   ]
  },
  {
   "cell_type": "code",
   "execution_count": null,
   "id": "314b4e7d-d255-4a25-878d-791852c35627",
   "metadata": {},
   "outputs": [],
   "source": [
    "%%time\n",
    "srt_c = np.searchsorted(sort_samp[:,0],  sort_labs)\n",
    "srt_c1 = np.searchsorted(sort_samp[:,0],  sort_labs+1)"
   ]
  },
  {
   "cell_type": "code",
   "execution_count": null,
   "id": "3da9253f-42a1-42b9-9b9e-14b5ba2761f4",
   "metadata": {},
   "outputs": [],
   "source": [
    "nmask = np.zeros(len(samp), dtype=bool)\n",
    "for c,c1 in zip(srt_c[:,0], srt_c1[:,0]):\n",
    "    nmask[c:c1] = True"
   ]
  },
  {
   "cell_type": "code",
   "execution_count": null,
   "id": "70948216-1f9b-4277-9f45-2af435816751",
   "metadata": {},
   "outputs": [],
   "source": [
    "srt_c[0]"
   ]
  },
  {
   "cell_type": "code",
   "execution_count": null,
   "id": "b66aba13-fa26-4d78-a3fc-2ad22380c9b0",
   "metadata": {},
   "outputs": [],
   "source": [
    "nmask[7880]"
   ]
  },
  {
   "cell_type": "code",
   "execution_count": null,
   "id": "6cecf8ba-ce0f-4eca-8249-056b10ca2e86",
   "metadata": {},
   "outputs": [],
   "source": [
    "mask[7880]"
   ]
  },
  {
   "cell_type": "code",
   "execution_count": null,
   "id": "efb2df04-f5e2-4532-8083-4f2f5f6bcbd7",
   "metadata": {},
   "outputs": [],
   "source": [
    "np.all(mask[:,0] == nmask[sort_inv])"
   ]
  },
  {
   "cell_type": "code",
   "execution_count": null,
   "id": "3e684496-c5b1-4949-8da1-d9a65ad4239d",
   "metadata": {},
   "outputs": [],
   "source": [
    "sort_samp[srt_c[0]]"
   ]
  },
  {
   "cell_type": "code",
   "execution_count": null,
   "id": "79674b15-b1fd-45cb-aa30-03eea788d6f3",
   "metadata": {},
   "outputs": [],
   "source": [
    "sort_samp[srt_c1[0]-1]"
   ]
  },
  {
   "cell_type": "code",
   "execution_count": null,
   "id": "ea1f4fe6-c2c6-4a5d-a699-b2e323acc38d",
   "metadata": {},
   "outputs": [],
   "source": [
    "sort_labs[0]"
   ]
  },
  {
   "cell_type": "code",
   "execution_count": null,
   "id": "5ecd645e-74e0-4e58-89b8-ef7bac2b73b9",
   "metadata": {},
   "outputs": [],
   "source": [
    "samp[sort_idx][sort_inv] - samp"
   ]
  },
  {
   "cell_type": "code",
   "execution_count": null,
   "id": "ca65e72b-82e4-44fc-bdc4-1d29091de1b0",
   "metadata": {},
   "outputs": [],
   "source": [
    "labs[0]"
   ]
  },
  {
   "cell_type": "code",
   "execution_count": null,
   "id": "c5463ed7-a0bb-4e08-8b1e-28abfe387e1e",
   "metadata": {},
   "outputs": [],
   "source": [
    "a = samp.copy()"
   ]
  },
  {
   "cell_type": "code",
   "execution_count": null,
   "id": "f5b6f7c3-3ed6-483e-b4ce-b0d149d58070",
   "metadata": {},
   "outputs": [],
   "source": [
    "%%time \n",
    "np.sort(a)"
   ]
  },
  {
   "cell_type": "code",
   "execution_count": null,
   "id": "007c360e-eecd-46a3-8e38-fa5566885031",
   "metadata": {},
   "outputs": [],
   "source": [
    "len(a)"
   ]
  },
  {
   "cell_type": "code",
   "execution_count": null,
   "id": "a9ea3d39-2c4c-4697-9e30-674432b5a135",
   "metadata": {},
   "outputs": [],
   "source": [
    "samp[test[0]+3]"
   ]
  },
  {
   "cell_type": "code",
   "execution_count": null,
   "id": "a26829df-99de-4d07-8d0f-36db0697da41",
   "metadata": {},
   "outputs": [],
   "source": [
    "%%time \n",
    "samples_mask = [all_samples.entry(i) in labels for i in tqdm(range(len(all_samples)))]"
   ]
  },
  {
   "cell_type": "code",
   "execution_count": null,
   "id": "226ac0cd-6b12-4b2b-b967-b557a613a675",
   "metadata": {},
   "outputs": [],
   "source": [
    "fun = ex03_wci.get_f"
   ]
  },
  {
   "cell_type": "code",
   "execution_count": null,
   "id": "3036fac5-8cf7-46a7-9f5b-c4ee9352cf40",
   "metadata": {},
   "outputs": [],
   "source": [
    "nl_selected"
   ]
  },
  {
   "cell_type": "code",
   "execution_count": null,
   "id": "f3d22f9d-b7e7-4cc1-9040-3f5305e729ad",
   "metadata": {},
   "outputs": [],
   "source": [
    "frame_iron.cell"
   ]
  },
  {
   "cell_type": "markdown",
   "id": "4160d8b8-27cf-45b7-b41c-3cc3467c8f13",
   "metadata": {},
   "source": [
    "# Structure-property maps for molecular materials"
   ]
  },
  {
   "cell_type": "code",
   "execution_count": null,
   "id": "57f05984-21b9-413e-8dd9-ef8b0cf4fd0c",
   "metadata": {},
   "outputs": [],
   "source": [
    "aza_frames = ase.io.read(\"data/azaphenacene.xyz\", \":\")\n",
    "\n",
    "aza_props = {\n",
    " prop: np.array([f.info[prop] for f in aza_frames])\n",
    " for prop in [\"energy\", \"mobility\", \"nHB\"]}"
   ]
  },
  {
   "cell_type": "code",
   "execution_count": null,
   "id": "406af292-86c6-4497-a783-2a7b308c5266",
   "metadata": {},
   "outputs": [],
   "source": [
    "cs = chemiscope.show(frames = aza_frames,\n",
    "                properties = chemiscope.extract_properties(aza_frames),\n",
    "              settings =  {'map': {'x': {'property': 'mobility','scale': 'log'},\n",
    "                                   'y': {'property': 'energy','scale': 'linear'},\n",
    "                                   'symbol': 'nHB_class',\n",
    "                                   'palette': 'inferno',\n",
    "                                    'color': {'property': 'molecule'},\n",
    "                                  },\n",
    "                             'structure': [{'unitCell': True,\n",
    "                                            'supercell': {'0': 2, '1': 2, '2': 2},\n",
    "                                           }]\n",
    "                          },\n",
    "               mode=\"default\")\n",
    "display(cs)"
   ]
  },
  {
   "cell_type": "markdown",
   "id": "fbf307a8-b056-4f16-ad20-9c0fa114cb5d",
   "metadata": {},
   "source": [
    "# Geometric representations and symmetries"
   ]
  },
  {
   "cell_type": "markdown",
   "id": "7a999ab7-2478-4a47-985b-dfde879df072",
   "metadata": {},
   "source": [
    "An overview of the ideas of symmetry-compliant descriptors\n",
    "\n",
    "* Build distance-histogram descriptors \"by hand\". Internal coordinates and symmetries\n",
    "* Visualize atomic environments with chemiscope\n",
    "* Generalize this: density expansion for permutation invariance\n",
    "* PCA map\n",
    "* Construction of invariants - explain addition theorem\n",
    "* Multiple species and azaphenacene.\n",
    "* PCOVr maps"
   ]
  },
  {
   "cell_type": "markdown",
   "id": "74579537-5a70-44f5-ac75-f856db4d70d7",
   "metadata": {},
   "source": [
    "This example takes a structure which is cut ouf of a simulation of freezing iron ([Shibuta et al., Acta Mater. (2016)](https://www.sciencedirect.com/science/article/abs/pii/S1359645415301397)).\n",
    "The snapshot contains a few solid nuclei embedded in a supercoled liquid."
   ]
  },
  {
   "cell_type": "code",
   "execution_count": null,
   "id": "0b0fac15-bd58-42be-94be-85598ee7d091",
   "metadata": {},
   "outputs": [],
   "source": []
  },
  {
   "cell_type": "code",
   "execution_count": null,
   "id": "e378b8a5-b2b7-42e2-b0e3-88286f6130f6",
   "metadata": {},
   "outputs": [],
   "source": [
    "nl_code = rascaline.NeighborList(cutoff=6.0, full_neighbor_list=True)"
   ]
  },
  {
   "cell_type": "code",
   "execution_count": null,
   "id": "41801ab6-c214-4823-968c-b6c6fcd4552b",
   "metadata": {},
   "outputs": [],
   "source": [
    "nl_val = nl.compute(frame_iron\n",
    "        ,selected_samples=Labels(names=[\"first_atom\"], values=sel_env_idx[:,np.newaxis]))"
   ]
  },
  {
   "cell_type": "code",
   "execution_count": null,
   "id": "d9918336-37af-468f-9e80-1130b2674f8d",
   "metadata": {},
   "outputs": [],
   "source": []
  }
 ],
 "metadata": {
  "kernelspec": {
   "display_name": "Python 3 (ipykernel)",
   "language": "python",
   "name": "python3"
  },
  "language_info": {
   "codemirror_mode": {
    "name": "ipython",
    "version": 3
   },
   "file_extension": ".py",
   "mimetype": "text/x-python",
   "name": "python",
   "nbconvert_exporter": "python",
   "pygments_lexer": "ipython3",
   "version": "3.10.12"
  }
 },
 "nbformat": 4,
 "nbformat_minor": 5
}
